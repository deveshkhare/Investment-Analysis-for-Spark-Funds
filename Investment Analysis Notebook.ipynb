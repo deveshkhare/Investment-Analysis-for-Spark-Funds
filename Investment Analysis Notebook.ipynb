{
 "cells": [
  {
   "cell_type": "markdown",
   "metadata": {},
   "source": [
    "<h1> Investment Analysis Assignment </h1>"
   ]
  },
  {
   "cell_type": "markdown",
   "metadata": {},
   "source": [
    "### Assignment Brief:"
   ]
  },
  {
   "cell_type": "markdown",
   "metadata": {},
   "source": [
    "You work for Spark Funds, an asset management company. Spark Funds wants to make investments in a few companies. The CEO of Spark Funds wants to understand the global trends in investments so that she can take the investment decisions effectively."
   ]
  },
  {
   "cell_type": "markdown",
   "metadata": {},
   "source": [
    "### Business and Data Understanding"
   ]
  },
  {
   "cell_type": "markdown",
   "metadata": {},
   "source": [
    "Spark Funds has two minor constraints for investments:\n",
    "\n",
    "1. It wants to invest between 5 to 15 million USD per round of investment\n",
    "\n",
    "2. It wants to invest only in English-speaking countries because of the ease of communication with the companies it would invest in\n",
    "\n",
    "For our analysis we consider a country to be English speaking only if English is one of the official languages in that country\n",
    "\n",
    "We use this list: Click <a href=\"https://en.wikipedia.org/wiki/List_of_territorial_entities_where_English_is_an_official_language\"> here</a> for a list of countries where English is an official language."
   ]
  },
  {
   "cell_type": "markdown",
   "metadata": {},
   "source": [
    "### 1. What is the strategy?\n",
    "\n",
    "Spark Funds wants to invest where most other investors are investing. This pattern is often observed among early stage startup investors.\n",
    "\n",
    " \n",
    "\n",
    "### 2. Where did we get the data from? \n",
    "\n",
    "We have taken real investment data from crunchbase.com, so the insights you get may be incredibly useful. For this assignment, we have divided the data into the following files:\n",
    "1. Company basic data (company.txt)\n",
    "2. Funding round details (rounds2.csv)\n",
    "3. Sector Classification info (mapping.csv)\n",
    "\n",
    "You have to usethree main data tables for the entire analysis.\n",
    "\n",
    " \n",
    "\n",
    "### 3. What is Spark Funds’ business objective?\n",
    "\n",
    "\n",
    "<b>Business objective:</b> The objective is to identify the best sectors, countries, and a suitable investment type for making investments. The overall strategy is to invest where others are investing, implying that the 'best' sectors and countries are the ones 'where most investors are investing'.\n",
    "\n",
    "<b>Goals of data analysis:</b> Your goals are divided into three sub-goals:\n",
    "\n",
    "<b>Investment type analysis:</b> Comparing the typical investment amounts in the venture, seed, angel, private equity etc. so that Spark Funds can choose the type that is best suited for their strategy.\n",
    "\n",
    "<b>Country analysis:</b> Identifying the countries which have been the most heavily invested in the past. These will be Spark Funds’ favourites as well.\n",
    "\n",
    "<b>Sector analysis</b>: Understanding the distribution of investments across the eight main sectors. (Note that we are interested in the eight 'main sectors' provided in the mapping file. The two files — companies and rounds2 — have numerous sub-sector names; hence, you will need to map each sub-sector to its main sector.)"
   ]
  },
  {
   "cell_type": "markdown",
   "metadata": {},
   "source": [
    "#### Importing Python libraries:"
   ]
  },
  {
   "cell_type": "code",
   "execution_count": 126,
   "metadata": {},
   "outputs": [],
   "source": [
    "import numpy as np\n",
    "import pandas as pd\n",
    "\n",
    "import matplotlib.pyplot as plt\n",
    "import seaborn as sns\n",
    "import re"
   ]
  },
  {
   "cell_type": "markdown",
   "metadata": {},
   "source": [
    "#### Reading input from given files"
   ]
  },
  {
   "cell_type": "code",
   "execution_count": 2,
   "metadata": {},
   "outputs": [],
   "source": [
    "companies_df=pd.read_csv(\"companies.txt\",sep=\"\\t\", encoding =\"ISO-8859-1\")\n",
    "rounds2_df=pd.read_csv(\"rounds2.csv\",encoding = \"ISO-8859-1\")\n",
    "mapping_df=pd.read_csv(\"mapping.csv\",encoding=\"ISO-8859-1\")"
   ]
  },
  {
   "cell_type": "markdown",
   "metadata": {},
   "source": [
    "#### Let us look at the different dataframes and observe the datatypes, shape and structure of them"
   ]
  },
  {
   "cell_type": "code",
   "execution_count": 3,
   "metadata": {},
   "outputs": [
    {
     "data": {
      "text/html": [
       "<div>\n",
       "<style scoped>\n",
       "    .dataframe tbody tr th:only-of-type {\n",
       "        vertical-align: middle;\n",
       "    }\n",
       "\n",
       "    .dataframe tbody tr th {\n",
       "        vertical-align: top;\n",
       "    }\n",
       "\n",
       "    .dataframe thead th {\n",
       "        text-align: right;\n",
       "    }\n",
       "</style>\n",
       "<table border=\"1\" class=\"dataframe\">\n",
       "  <thead>\n",
       "    <tr style=\"text-align: right;\">\n",
       "      <th></th>\n",
       "      <th>permalink</th>\n",
       "      <th>name</th>\n",
       "      <th>homepage_url</th>\n",
       "      <th>category_list</th>\n",
       "      <th>status</th>\n",
       "      <th>country_code</th>\n",
       "      <th>state_code</th>\n",
       "      <th>region</th>\n",
       "      <th>city</th>\n",
       "      <th>founded_at</th>\n",
       "    </tr>\n",
       "  </thead>\n",
       "  <tbody>\n",
       "    <tr>\n",
       "      <td>0</td>\n",
       "      <td>/Organization/-Fame</td>\n",
       "      <td>#fame</td>\n",
       "      <td>http://livfame.com</td>\n",
       "      <td>Media</td>\n",
       "      <td>operating</td>\n",
       "      <td>IND</td>\n",
       "      <td>16</td>\n",
       "      <td>Mumbai</td>\n",
       "      <td>Mumbai</td>\n",
       "      <td>NaN</td>\n",
       "    </tr>\n",
       "    <tr>\n",
       "      <td>1</td>\n",
       "      <td>/Organization/-Qounter</td>\n",
       "      <td>:Qounter</td>\n",
       "      <td>http://www.qounter.com</td>\n",
       "      <td>Application Platforms|Real Time|Social Network...</td>\n",
       "      <td>operating</td>\n",
       "      <td>USA</td>\n",
       "      <td>DE</td>\n",
       "      <td>DE - Other</td>\n",
       "      <td>Delaware City</td>\n",
       "      <td>04-09-2014</td>\n",
       "    </tr>\n",
       "    <tr>\n",
       "      <td>2</td>\n",
       "      <td>/Organization/-The-One-Of-Them-Inc-</td>\n",
       "      <td>(THE) ONE of THEM,Inc.</td>\n",
       "      <td>http://oneofthem.jp</td>\n",
       "      <td>Apps|Games|Mobile</td>\n",
       "      <td>operating</td>\n",
       "      <td>NaN</td>\n",
       "      <td>NaN</td>\n",
       "      <td>NaN</td>\n",
       "      <td>NaN</td>\n",
       "      <td>NaN</td>\n",
       "    </tr>\n",
       "    <tr>\n",
       "      <td>3</td>\n",
       "      <td>/Organization/0-6-Com</td>\n",
       "      <td>0-6.com</td>\n",
       "      <td>http://www.0-6.com</td>\n",
       "      <td>Curated Web</td>\n",
       "      <td>operating</td>\n",
       "      <td>CHN</td>\n",
       "      <td>22</td>\n",
       "      <td>Beijing</td>\n",
       "      <td>Beijing</td>\n",
       "      <td>01-01-2007</td>\n",
       "    </tr>\n",
       "    <tr>\n",
       "      <td>4</td>\n",
       "      <td>/Organization/004-Technologies</td>\n",
       "      <td>004 Technologies</td>\n",
       "      <td>http://004gmbh.de/en/004-interact</td>\n",
       "      <td>Software</td>\n",
       "      <td>operating</td>\n",
       "      <td>USA</td>\n",
       "      <td>IL</td>\n",
       "      <td>Springfield, Illinois</td>\n",
       "      <td>Champaign</td>\n",
       "      <td>01-01-2010</td>\n",
       "    </tr>\n",
       "  </tbody>\n",
       "</table>\n",
       "</div>"
      ],
      "text/plain": [
       "                             permalink                    name  \\\n",
       "0                  /Organization/-Fame                   #fame   \n",
       "1               /Organization/-Qounter                :Qounter   \n",
       "2  /Organization/-The-One-Of-Them-Inc-  (THE) ONE of THEM,Inc.   \n",
       "3                /Organization/0-6-Com                 0-6.com   \n",
       "4       /Organization/004-Technologies        004 Technologies   \n",
       "\n",
       "                        homepage_url  \\\n",
       "0                 http://livfame.com   \n",
       "1             http://www.qounter.com   \n",
       "2                http://oneofthem.jp   \n",
       "3                 http://www.0-6.com   \n",
       "4  http://004gmbh.de/en/004-interact   \n",
       "\n",
       "                                       category_list     status country_code  \\\n",
       "0                                              Media  operating          IND   \n",
       "1  Application Platforms|Real Time|Social Network...  operating          USA   \n",
       "2                                  Apps|Games|Mobile  operating          NaN   \n",
       "3                                        Curated Web  operating          CHN   \n",
       "4                                           Software  operating          USA   \n",
       "\n",
       "  state_code                 region           city  founded_at  \n",
       "0         16                 Mumbai         Mumbai         NaN  \n",
       "1         DE             DE - Other  Delaware City  04-09-2014  \n",
       "2        NaN                    NaN            NaN         NaN  \n",
       "3         22                Beijing        Beijing  01-01-2007  \n",
       "4         IL  Springfield, Illinois      Champaign  01-01-2010  "
      ]
     },
     "execution_count": 3,
     "metadata": {},
     "output_type": "execute_result"
    }
   ],
   "source": [
    "companies_df.head()"
   ]
  },
  {
   "cell_type": "code",
   "execution_count": 4,
   "metadata": {},
   "outputs": [
    {
     "name": "stdout",
     "output_type": "stream",
     "text": [
      "<class 'pandas.core.frame.DataFrame'>\n",
      "RangeIndex: 66368 entries, 0 to 66367\n",
      "Data columns (total 10 columns):\n",
      "permalink        66368 non-null object\n",
      "name             66367 non-null object\n",
      "homepage_url     61310 non-null object\n",
      "category_list    63220 non-null object\n",
      "status           66368 non-null object\n",
      "country_code     59410 non-null object\n",
      "state_code       57821 non-null object\n",
      "region           58338 non-null object\n",
      "city             58340 non-null object\n",
      "founded_at       51147 non-null object\n",
      "dtypes: object(10)\n",
      "memory usage: 5.1+ MB\n"
     ]
    }
   ],
   "source": [
    "companies_df.info()"
   ]
  },
  {
   "cell_type": "code",
   "execution_count": 5,
   "metadata": {},
   "outputs": [
    {
     "data": {
      "text/html": [
       "<div>\n",
       "<style scoped>\n",
       "    .dataframe tbody tr th:only-of-type {\n",
       "        vertical-align: middle;\n",
       "    }\n",
       "\n",
       "    .dataframe tbody tr th {\n",
       "        vertical-align: top;\n",
       "    }\n",
       "\n",
       "    .dataframe thead th {\n",
       "        text-align: right;\n",
       "    }\n",
       "</style>\n",
       "<table border=\"1\" class=\"dataframe\">\n",
       "  <thead>\n",
       "    <tr style=\"text-align: right;\">\n",
       "      <th></th>\n",
       "      <th>permalink</th>\n",
       "      <th>name</th>\n",
       "      <th>homepage_url</th>\n",
       "      <th>category_list</th>\n",
       "      <th>status</th>\n",
       "      <th>country_code</th>\n",
       "      <th>state_code</th>\n",
       "      <th>region</th>\n",
       "      <th>city</th>\n",
       "      <th>founded_at</th>\n",
       "    </tr>\n",
       "  </thead>\n",
       "  <tbody>\n",
       "    <tr>\n",
       "      <td>count</td>\n",
       "      <td>66368</td>\n",
       "      <td>66367</td>\n",
       "      <td>61310</td>\n",
       "      <td>63220</td>\n",
       "      <td>66368</td>\n",
       "      <td>59410</td>\n",
       "      <td>57821</td>\n",
       "      <td>58338</td>\n",
       "      <td>58340</td>\n",
       "      <td>51147</td>\n",
       "    </tr>\n",
       "    <tr>\n",
       "      <td>unique</td>\n",
       "      <td>66368</td>\n",
       "      <td>66102</td>\n",
       "      <td>61191</td>\n",
       "      <td>27296</td>\n",
       "      <td>4</td>\n",
       "      <td>137</td>\n",
       "      <td>311</td>\n",
       "      <td>1092</td>\n",
       "      <td>5111</td>\n",
       "      <td>3978</td>\n",
       "    </tr>\n",
       "    <tr>\n",
       "      <td>top</td>\n",
       "      <td>/Organization/Twidox</td>\n",
       "      <td>Blink</td>\n",
       "      <td>http://www.askforoffer.com</td>\n",
       "      <td>Software</td>\n",
       "      <td>operating</td>\n",
       "      <td>USA</td>\n",
       "      <td>CA</td>\n",
       "      <td>SF Bay Area</td>\n",
       "      <td>San Francisco</td>\n",
       "      <td>01-01-2012</td>\n",
       "    </tr>\n",
       "    <tr>\n",
       "      <td>freq</td>\n",
       "      <td>1</td>\n",
       "      <td>4</td>\n",
       "      <td>5</td>\n",
       "      <td>3995</td>\n",
       "      <td>53034</td>\n",
       "      <td>37601</td>\n",
       "      <td>12900</td>\n",
       "      <td>8804</td>\n",
       "      <td>3526</td>\n",
       "      <td>2730</td>\n",
       "    </tr>\n",
       "  </tbody>\n",
       "</table>\n",
       "</div>"
      ],
      "text/plain": [
       "                   permalink   name                homepage_url category_list  \\\n",
       "count                  66368  66367                       61310         63220   \n",
       "unique                 66368  66102                       61191         27296   \n",
       "top     /Organization/Twidox  Blink  http://www.askforoffer.com      Software   \n",
       "freq                       1      4                           5          3995   \n",
       "\n",
       "           status country_code state_code       region           city  \\\n",
       "count       66368        59410      57821        58338          58340   \n",
       "unique          4          137        311         1092           5111   \n",
       "top     operating          USA         CA  SF Bay Area  San Francisco   \n",
       "freq        53034        37601      12900         8804           3526   \n",
       "\n",
       "        founded_at  \n",
       "count        51147  \n",
       "unique        3978  \n",
       "top     01-01-2012  \n",
       "freq          2730  "
      ]
     },
     "execution_count": 5,
     "metadata": {},
     "output_type": "execute_result"
    }
   ],
   "source": [
    "companies_df.describe()"
   ]
  },
  {
   "cell_type": "code",
   "execution_count": 6,
   "metadata": {},
   "outputs": [
    {
     "data": {
      "text/html": [
       "<div>\n",
       "<style scoped>\n",
       "    .dataframe tbody tr th:only-of-type {\n",
       "        vertical-align: middle;\n",
       "    }\n",
       "\n",
       "    .dataframe tbody tr th {\n",
       "        vertical-align: top;\n",
       "    }\n",
       "\n",
       "    .dataframe thead th {\n",
       "        text-align: right;\n",
       "    }\n",
       "</style>\n",
       "<table border=\"1\" class=\"dataframe\">\n",
       "  <thead>\n",
       "    <tr style=\"text-align: right;\">\n",
       "      <th></th>\n",
       "      <th>company_permalink</th>\n",
       "      <th>funding_round_permalink</th>\n",
       "      <th>funding_round_type</th>\n",
       "      <th>funding_round_code</th>\n",
       "      <th>funded_at</th>\n",
       "      <th>raised_amount_usd</th>\n",
       "    </tr>\n",
       "  </thead>\n",
       "  <tbody>\n",
       "    <tr>\n",
       "      <td>0</td>\n",
       "      <td>/organization/-fame</td>\n",
       "      <td>/funding-round/9a01d05418af9f794eebff7ace91f638</td>\n",
       "      <td>venture</td>\n",
       "      <td>B</td>\n",
       "      <td>05-01-2015</td>\n",
       "      <td>10000000.0</td>\n",
       "    </tr>\n",
       "    <tr>\n",
       "      <td>1</td>\n",
       "      <td>/ORGANIZATION/-QOUNTER</td>\n",
       "      <td>/funding-round/22dacff496eb7acb2b901dec1dfe5633</td>\n",
       "      <td>venture</td>\n",
       "      <td>A</td>\n",
       "      <td>14-10-2014</td>\n",
       "      <td>NaN</td>\n",
       "    </tr>\n",
       "    <tr>\n",
       "      <td>2</td>\n",
       "      <td>/organization/-qounter</td>\n",
       "      <td>/funding-round/b44fbb94153f6cdef13083530bb48030</td>\n",
       "      <td>seed</td>\n",
       "      <td>NaN</td>\n",
       "      <td>01-03-2014</td>\n",
       "      <td>700000.0</td>\n",
       "    </tr>\n",
       "    <tr>\n",
       "      <td>3</td>\n",
       "      <td>/ORGANIZATION/-THE-ONE-OF-THEM-INC-</td>\n",
       "      <td>/funding-round/650b8f704416801069bb178a1418776b</td>\n",
       "      <td>venture</td>\n",
       "      <td>B</td>\n",
       "      <td>30-01-2014</td>\n",
       "      <td>3406878.0</td>\n",
       "    </tr>\n",
       "    <tr>\n",
       "      <td>4</td>\n",
       "      <td>/organization/0-6-com</td>\n",
       "      <td>/funding-round/5727accaeaa57461bd22a9bdd945382d</td>\n",
       "      <td>venture</td>\n",
       "      <td>A</td>\n",
       "      <td>19-03-2008</td>\n",
       "      <td>2000000.0</td>\n",
       "    </tr>\n",
       "  </tbody>\n",
       "</table>\n",
       "</div>"
      ],
      "text/plain": [
       "                     company_permalink  \\\n",
       "0                  /organization/-fame   \n",
       "1               /ORGANIZATION/-QOUNTER   \n",
       "2               /organization/-qounter   \n",
       "3  /ORGANIZATION/-THE-ONE-OF-THEM-INC-   \n",
       "4                /organization/0-6-com   \n",
       "\n",
       "                           funding_round_permalink funding_round_type  \\\n",
       "0  /funding-round/9a01d05418af9f794eebff7ace91f638            venture   \n",
       "1  /funding-round/22dacff496eb7acb2b901dec1dfe5633            venture   \n",
       "2  /funding-round/b44fbb94153f6cdef13083530bb48030               seed   \n",
       "3  /funding-round/650b8f704416801069bb178a1418776b            venture   \n",
       "4  /funding-round/5727accaeaa57461bd22a9bdd945382d            venture   \n",
       "\n",
       "  funding_round_code   funded_at  raised_amount_usd  \n",
       "0                  B  05-01-2015         10000000.0  \n",
       "1                  A  14-10-2014                NaN  \n",
       "2                NaN  01-03-2014           700000.0  \n",
       "3                  B  30-01-2014          3406878.0  \n",
       "4                  A  19-03-2008          2000000.0  "
      ]
     },
     "execution_count": 6,
     "metadata": {},
     "output_type": "execute_result"
    }
   ],
   "source": [
    "rounds2_df.head()"
   ]
  },
  {
   "cell_type": "code",
   "execution_count": 7,
   "metadata": {},
   "outputs": [
    {
     "name": "stdout",
     "output_type": "stream",
     "text": [
      "<class 'pandas.core.frame.DataFrame'>\n",
      "RangeIndex: 114949 entries, 0 to 114948\n",
      "Data columns (total 6 columns):\n",
      "company_permalink          114949 non-null object\n",
      "funding_round_permalink    114949 non-null object\n",
      "funding_round_type         114949 non-null object\n",
      "funding_round_code         31140 non-null object\n",
      "funded_at                  114949 non-null object\n",
      "raised_amount_usd          94959 non-null float64\n",
      "dtypes: float64(1), object(5)\n",
      "memory usage: 5.3+ MB\n"
     ]
    }
   ],
   "source": [
    "rounds2_df.info()"
   ]
  },
  {
   "cell_type": "code",
   "execution_count": 8,
   "metadata": {},
   "outputs": [
    {
     "data": {
      "text/html": [
       "<div>\n",
       "<style scoped>\n",
       "    .dataframe tbody tr th:only-of-type {\n",
       "        vertical-align: middle;\n",
       "    }\n",
       "\n",
       "    .dataframe tbody tr th {\n",
       "        vertical-align: top;\n",
       "    }\n",
       "\n",
       "    .dataframe thead th {\n",
       "        text-align: right;\n",
       "    }\n",
       "</style>\n",
       "<table border=\"1\" class=\"dataframe\">\n",
       "  <thead>\n",
       "    <tr style=\"text-align: right;\">\n",
       "      <th></th>\n",
       "      <th>raised_amount_usd</th>\n",
       "    </tr>\n",
       "  </thead>\n",
       "  <tbody>\n",
       "    <tr>\n",
       "      <td>count</td>\n",
       "      <td>9.495900e+04</td>\n",
       "    </tr>\n",
       "    <tr>\n",
       "      <td>mean</td>\n",
       "      <td>1.042687e+07</td>\n",
       "    </tr>\n",
       "    <tr>\n",
       "      <td>std</td>\n",
       "      <td>1.148212e+08</td>\n",
       "    </tr>\n",
       "    <tr>\n",
       "      <td>min</td>\n",
       "      <td>0.000000e+00</td>\n",
       "    </tr>\n",
       "    <tr>\n",
       "      <td>25%</td>\n",
       "      <td>3.225000e+05</td>\n",
       "    </tr>\n",
       "    <tr>\n",
       "      <td>50%</td>\n",
       "      <td>1.680511e+06</td>\n",
       "    </tr>\n",
       "    <tr>\n",
       "      <td>75%</td>\n",
       "      <td>7.000000e+06</td>\n",
       "    </tr>\n",
       "    <tr>\n",
       "      <td>max</td>\n",
       "      <td>2.127194e+10</td>\n",
       "    </tr>\n",
       "  </tbody>\n",
       "</table>\n",
       "</div>"
      ],
      "text/plain": [
       "       raised_amount_usd\n",
       "count       9.495900e+04\n",
       "mean        1.042687e+07\n",
       "std         1.148212e+08\n",
       "min         0.000000e+00\n",
       "25%         3.225000e+05\n",
       "50%         1.680511e+06\n",
       "75%         7.000000e+06\n",
       "max         2.127194e+10"
      ]
     },
     "execution_count": 8,
     "metadata": {},
     "output_type": "execute_result"
    }
   ],
   "source": [
    "rounds2_df.describe()"
   ]
  },
  {
   "cell_type": "markdown",
   "metadata": {},
   "source": [
    "Let us change the formatting of numbers so that we can display large numbers with commas"
   ]
  },
  {
   "cell_type": "code",
   "execution_count": 9,
   "metadata": {},
   "outputs": [],
   "source": [
    "pd.options.display.float_format = '{:,.2f}'.format"
   ]
  },
  {
   "cell_type": "code",
   "execution_count": 10,
   "metadata": {},
   "outputs": [
    {
     "data": {
      "text/plain": [
       "66103"
      ]
     },
     "execution_count": 10,
     "metadata": {},
     "output_type": "execute_result"
    }
   ],
   "source": [
    "len(companies_df[\"name\"].unique())"
   ]
  },
  {
   "cell_type": "code",
   "execution_count": 11,
   "metadata": {},
   "outputs": [
    {
     "data": {
      "text/html": [
       "<div>\n",
       "<style scoped>\n",
       "    .dataframe tbody tr th:only-of-type {\n",
       "        vertical-align: middle;\n",
       "    }\n",
       "\n",
       "    .dataframe tbody tr th {\n",
       "        vertical-align: top;\n",
       "    }\n",
       "\n",
       "    .dataframe thead th {\n",
       "        text-align: right;\n",
       "    }\n",
       "</style>\n",
       "<table border=\"1\" class=\"dataframe\">\n",
       "  <thead>\n",
       "    <tr style=\"text-align: right;\">\n",
       "      <th></th>\n",
       "      <th>raised_amount_usd</th>\n",
       "    </tr>\n",
       "  </thead>\n",
       "  <tbody>\n",
       "    <tr>\n",
       "      <td>count</td>\n",
       "      <td>94,959.00</td>\n",
       "    </tr>\n",
       "    <tr>\n",
       "      <td>mean</td>\n",
       "      <td>10,426,869.33</td>\n",
       "    </tr>\n",
       "    <tr>\n",
       "      <td>std</td>\n",
       "      <td>114,821,247.98</td>\n",
       "    </tr>\n",
       "    <tr>\n",
       "      <td>min</td>\n",
       "      <td>0.00</td>\n",
       "    </tr>\n",
       "    <tr>\n",
       "      <td>25%</td>\n",
       "      <td>322,500.00</td>\n",
       "    </tr>\n",
       "    <tr>\n",
       "      <td>50%</td>\n",
       "      <td>1,680,511.00</td>\n",
       "    </tr>\n",
       "    <tr>\n",
       "      <td>75%</td>\n",
       "      <td>7,000,000.00</td>\n",
       "    </tr>\n",
       "    <tr>\n",
       "      <td>max</td>\n",
       "      <td>21,271,935,000.00</td>\n",
       "    </tr>\n",
       "  </tbody>\n",
       "</table>\n",
       "</div>"
      ],
      "text/plain": [
       "       raised_amount_usd\n",
       "count          94,959.00\n",
       "mean       10,426,869.33\n",
       "std       114,821,247.98\n",
       "min                 0.00\n",
       "25%           322,500.00\n",
       "50%         1,680,511.00\n",
       "75%         7,000,000.00\n",
       "max    21,271,935,000.00"
      ]
     },
     "execution_count": 11,
     "metadata": {},
     "output_type": "execute_result"
    }
   ],
   "source": [
    "rounds2_df.describe()"
   ]
  },
  {
   "cell_type": "markdown",
   "metadata": {},
   "source": [
    "This looks great!"
   ]
  },
  {
   "cell_type": "markdown",
   "metadata": {},
   "source": [
    "Lets determine the unique comany name by looking at the values for name and permalink"
   ]
  },
  {
   "cell_type": "code",
   "execution_count": 12,
   "metadata": {},
   "outputs": [
    {
     "data": {
      "text/plain": [
       "66103"
      ]
     },
     "execution_count": 12,
     "metadata": {},
     "output_type": "execute_result"
    }
   ],
   "source": [
    "len(companies_df[\"name\"].unique())"
   ]
  },
  {
   "cell_type": "code",
   "execution_count": 13,
   "metadata": {},
   "outputs": [
    {
     "data": {
      "text/plain": [
       "66038"
      ]
     },
     "execution_count": 13,
     "metadata": {},
     "output_type": "execute_result"
    }
   ],
   "source": [
    "len(companies_df[\"name\"].str.lower().unique())"
   ]
  },
  {
   "cell_type": "code",
   "execution_count": 14,
   "metadata": {},
   "outputs": [
    {
     "data": {
      "text/plain": [
       "66368"
      ]
     },
     "execution_count": 14,
     "metadata": {},
     "output_type": "execute_result"
    }
   ],
   "source": [
    "len(companies_df[\"permalink\"].unique())"
   ]
  },
  {
   "cell_type": "code",
   "execution_count": 15,
   "metadata": {},
   "outputs": [
    {
     "data": {
      "text/plain": [
       "66368"
      ]
     },
     "execution_count": 15,
     "metadata": {},
     "output_type": "execute_result"
    }
   ],
   "source": [
    "len(companies_df[\"permalink\"].str.lower().unique())"
   ]
  },
  {
   "cell_type": "code",
   "execution_count": 16,
   "metadata": {},
   "outputs": [
    {
     "data": {
      "text/plain": [
       "90247"
      ]
     },
     "execution_count": 16,
     "metadata": {},
     "output_type": "execute_result"
    }
   ],
   "source": [
    "len(rounds2_df[\"company_permalink\"].unique())"
   ]
  },
  {
   "cell_type": "code",
   "execution_count": 17,
   "metadata": {},
   "outputs": [
    {
     "data": {
      "text/plain": [
       "66370"
      ]
     },
     "execution_count": 17,
     "metadata": {},
     "output_type": "execute_result"
    }
   ],
   "source": [
    "len(rounds2_df[\"company_permalink\"].str.lower().unique())"
   ]
  },
  {
   "cell_type": "markdown",
   "metadata": {},
   "source": [
    "This means that there are companies with same name and different permalinks"
   ]
  },
  {
   "cell_type": "code",
   "execution_count": 18,
   "metadata": {},
   "outputs": [],
   "source": [
    "rounds2_df[\"company_permalink\"] = rounds2_df[\"company_permalink\"].str.lower()\n",
    "companies_df[\"permalink\"] = companies_df[\"permalink\"].str.lower()"
   ]
  },
  {
   "cell_type": "markdown",
   "metadata": {},
   "source": [
    "Remove columns trivial to our analysis"
   ]
  },
  {
   "cell_type": "code",
   "execution_count": 19,
   "metadata": {},
   "outputs": [],
   "source": [
    "companies_df.drop(['homepage_url','founded_at'],axis=1,inplace=True)"
   ]
  },
  {
   "cell_type": "code",
   "execution_count": 20,
   "metadata": {},
   "outputs": [],
   "source": [
    "rounds2_df.drop('funded_at',axis=1,inplace=True)"
   ]
  },
  {
   "cell_type": "markdown",
   "metadata": {},
   "source": [
    "## Check duplicate values"
   ]
  },
  {
   "cell_type": "code",
   "execution_count": 21,
   "metadata": {},
   "outputs": [
    {
     "data": {
      "text/html": [
       "<div>\n",
       "<style scoped>\n",
       "    .dataframe tbody tr th:only-of-type {\n",
       "        vertical-align: middle;\n",
       "    }\n",
       "\n",
       "    .dataframe tbody tr th {\n",
       "        vertical-align: top;\n",
       "    }\n",
       "\n",
       "    .dataframe thead th {\n",
       "        text-align: right;\n",
       "    }\n",
       "</style>\n",
       "<table border=\"1\" class=\"dataframe\">\n",
       "  <thead>\n",
       "    <tr style=\"text-align: right;\">\n",
       "      <th></th>\n",
       "      <th>permalink</th>\n",
       "      <th>name</th>\n",
       "      <th>category_list</th>\n",
       "      <th>status</th>\n",
       "      <th>country_code</th>\n",
       "      <th>state_code</th>\n",
       "      <th>region</th>\n",
       "      <th>city</th>\n",
       "    </tr>\n",
       "  </thead>\n",
       "  <tbody>\n",
       "  </tbody>\n",
       "</table>\n",
       "</div>"
      ],
      "text/plain": [
       "Empty DataFrame\n",
       "Columns: [permalink, name, category_list, status, country_code, state_code, region, city]\n",
       "Index: []"
      ]
     },
     "execution_count": 21,
     "metadata": {},
     "output_type": "execute_result"
    }
   ],
   "source": [
    "companies_df.loc[companies_df.duplicated()]"
   ]
  },
  {
   "cell_type": "code",
   "execution_count": 22,
   "metadata": {},
   "outputs": [
    {
     "data": {
      "text/html": [
       "<div>\n",
       "<style scoped>\n",
       "    .dataframe tbody tr th:only-of-type {\n",
       "        vertical-align: middle;\n",
       "    }\n",
       "\n",
       "    .dataframe tbody tr th {\n",
       "        vertical-align: top;\n",
       "    }\n",
       "\n",
       "    .dataframe thead th {\n",
       "        text-align: right;\n",
       "    }\n",
       "</style>\n",
       "<table border=\"1\" class=\"dataframe\">\n",
       "  <thead>\n",
       "    <tr style=\"text-align: right;\">\n",
       "      <th></th>\n",
       "      <th>company_permalink</th>\n",
       "      <th>funding_round_permalink</th>\n",
       "      <th>funding_round_type</th>\n",
       "      <th>funding_round_code</th>\n",
       "      <th>raised_amount_usd</th>\n",
       "    </tr>\n",
       "  </thead>\n",
       "  <tbody>\n",
       "  </tbody>\n",
       "</table>\n",
       "</div>"
      ],
      "text/plain": [
       "Empty DataFrame\n",
       "Columns: [company_permalink, funding_round_permalink, funding_round_type, funding_round_code, raised_amount_usd]\n",
       "Index: []"
      ]
     },
     "execution_count": 22,
     "metadata": {},
     "output_type": "execute_result"
    }
   ],
   "source": [
    "rounds2_df.loc[rounds2_df.duplicated()]"
   ]
  },
  {
   "cell_type": "markdown",
   "metadata": {},
   "source": [
    "#### Both dataframes don't have any duplicate values"
   ]
  },
  {
   "cell_type": "markdown",
   "metadata": {},
   "source": [
    "## Missing Value Analysis\n",
    "Let us look at the companies_df and rounds2_df for null values"
   ]
  },
  {
   "cell_type": "code",
   "execution_count": 23,
   "metadata": {},
   "outputs": [
    {
     "data": {
      "text/plain": [
       "permalink        False\n",
       "name              True\n",
       "category_list     True\n",
       "status           False\n",
       "country_code      True\n",
       "state_code        True\n",
       "region            True\n",
       "city              True\n",
       "dtype: bool"
      ]
     },
     "execution_count": 23,
     "metadata": {},
     "output_type": "execute_result"
    }
   ],
   "source": [
    "companies_df.isnull().any()"
   ]
  },
  {
   "cell_type": "code",
   "execution_count": 24,
   "metadata": {},
   "outputs": [
    {
     "data": {
      "text/plain": [
       "permalink           0\n",
       "name                1\n",
       "category_list    3148\n",
       "status              0\n",
       "country_code     6958\n",
       "state_code       8547\n",
       "region           8030\n",
       "city             8028\n",
       "dtype: int64"
      ]
     },
     "execution_count": 24,
     "metadata": {},
     "output_type": "execute_result"
    }
   ],
   "source": [
    "companies_df.isnull().sum()"
   ]
  },
  {
   "cell_type": "code",
   "execution_count": 25,
   "metadata": {},
   "outputs": [
    {
     "data": {
      "text/html": [
       "<div>\n",
       "<style scoped>\n",
       "    .dataframe tbody tr th:only-of-type {\n",
       "        vertical-align: middle;\n",
       "    }\n",
       "\n",
       "    .dataframe tbody tr th {\n",
       "        vertical-align: top;\n",
       "    }\n",
       "\n",
       "    .dataframe thead th {\n",
       "        text-align: right;\n",
       "    }\n",
       "</style>\n",
       "<table border=\"1\" class=\"dataframe\">\n",
       "  <thead>\n",
       "    <tr style=\"text-align: right;\">\n",
       "      <th></th>\n",
       "      <th>permalink</th>\n",
       "      <th>name</th>\n",
       "      <th>category_list</th>\n",
       "      <th>status</th>\n",
       "      <th>country_code</th>\n",
       "      <th>state_code</th>\n",
       "      <th>region</th>\n",
       "      <th>city</th>\n",
       "    </tr>\n",
       "  </thead>\n",
       "  <tbody>\n",
       "    <tr>\n",
       "      <td>56916</td>\n",
       "      <td>/organization/tell-it-in</td>\n",
       "      <td>NaN</td>\n",
       "      <td>Startups</td>\n",
       "      <td>closed</td>\n",
       "      <td>USA</td>\n",
       "      <td>OR</td>\n",
       "      <td>Portland, Oregon</td>\n",
       "      <td>Portland</td>\n",
       "    </tr>\n",
       "  </tbody>\n",
       "</table>\n",
       "</div>"
      ],
      "text/plain": [
       "                      permalink name category_list  status country_code  \\\n",
       "56916  /organization/tell-it-in  NaN      Startups  closed          USA   \n",
       "\n",
       "      state_code            region      city  \n",
       "56916         OR  Portland, Oregon  Portland  "
      ]
     },
     "execution_count": 25,
     "metadata": {},
     "output_type": "execute_result"
    }
   ],
   "source": [
    "companies_df.loc[companies_df['name'].isnull()]"
   ]
  },
  {
   "cell_type": "markdown",
   "metadata": {},
   "source": [
    "The columns with null values are categorical and the name column has only one null value, which we leave as only name is missing and the row is still providing valuable information and name could also be derived from the permalink"
   ]
  },
  {
   "cell_type": "markdown",
   "metadata": {},
   "source": [
    "Columns with null values"
   ]
  },
  {
   "cell_type": "code",
   "execution_count": 26,
   "metadata": {},
   "outputs": [
    {
     "data": {
      "text/plain": [
       "company_permalink          False\n",
       "funding_round_permalink    False\n",
       "funding_round_type         False\n",
       "funding_round_code          True\n",
       "raised_amount_usd           True\n",
       "dtype: bool"
      ]
     },
     "execution_count": 26,
     "metadata": {},
     "output_type": "execute_result"
    }
   ],
   "source": [
    "rounds2_df.isnull().any()"
   ]
  },
  {
   "cell_type": "markdown",
   "metadata": {},
   "source": [
    "Number of null values columnwise"
   ]
  },
  {
   "cell_type": "code",
   "execution_count": 27,
   "metadata": {},
   "outputs": [
    {
     "data": {
      "text/plain": [
       "company_permalink              0\n",
       "funding_round_permalink        0\n",
       "funding_round_type             0\n",
       "funding_round_code         83809\n",
       "raised_amount_usd          19990\n",
       "dtype: int64"
      ]
     },
     "execution_count": 27,
     "metadata": {},
     "output_type": "execute_result"
    }
   ],
   "source": [
    "rounds2_df.isnull().sum()"
   ]
  },
  {
   "cell_type": "markdown",
   "metadata": {},
   "source": [
    "Null value percentage columnwise"
   ]
  },
  {
   "cell_type": "code",
   "execution_count": 28,
   "metadata": {},
   "outputs": [
    {
     "data": {
      "text/plain": [
       "company_permalink          0.00\n",
       "funding_round_permalink    0.00\n",
       "funding_round_type         0.00\n",
       "funding_round_code        72.91\n",
       "raised_amount_usd         17.39\n",
       "dtype: float64"
      ]
     },
     "execution_count": 28,
     "metadata": {},
     "output_type": "execute_result"
    }
   ],
   "source": [
    "rounds2_df.isnull().sum()/len(rounds2_df)*100"
   ]
  },
  {
   "cell_type": "code",
   "execution_count": 29,
   "metadata": {},
   "outputs": [],
   "source": [
    "rounds2_df.drop('funding_round_code',axis=1,inplace=True)"
   ]
  },
  {
   "cell_type": "code",
   "execution_count": 30,
   "metadata": {},
   "outputs": [
    {
     "data": {
      "text/html": [
       "<div>\n",
       "<style scoped>\n",
       "    .dataframe tbody tr th:only-of-type {\n",
       "        vertical-align: middle;\n",
       "    }\n",
       "\n",
       "    .dataframe tbody tr th {\n",
       "        vertical-align: top;\n",
       "    }\n",
       "\n",
       "    .dataframe thead th {\n",
       "        text-align: right;\n",
       "    }\n",
       "</style>\n",
       "<table border=\"1\" class=\"dataframe\">\n",
       "  <thead>\n",
       "    <tr style=\"text-align: right;\">\n",
       "      <th></th>\n",
       "      <th>raised_amount_usd</th>\n",
       "    </tr>\n",
       "  </thead>\n",
       "  <tbody>\n",
       "    <tr>\n",
       "      <td>count</td>\n",
       "      <td>94,959.00</td>\n",
       "    </tr>\n",
       "    <tr>\n",
       "      <td>mean</td>\n",
       "      <td>10,426,869.33</td>\n",
       "    </tr>\n",
       "    <tr>\n",
       "      <td>std</td>\n",
       "      <td>114,821,247.98</td>\n",
       "    </tr>\n",
       "    <tr>\n",
       "      <td>min</td>\n",
       "      <td>0.00</td>\n",
       "    </tr>\n",
       "    <tr>\n",
       "      <td>25%</td>\n",
       "      <td>322,500.00</td>\n",
       "    </tr>\n",
       "    <tr>\n",
       "      <td>50%</td>\n",
       "      <td>1,680,511.00</td>\n",
       "    </tr>\n",
       "    <tr>\n",
       "      <td>75%</td>\n",
       "      <td>7,000,000.00</td>\n",
       "    </tr>\n",
       "    <tr>\n",
       "      <td>max</td>\n",
       "      <td>21,271,935,000.00</td>\n",
       "    </tr>\n",
       "  </tbody>\n",
       "</table>\n",
       "</div>"
      ],
      "text/plain": [
       "       raised_amount_usd\n",
       "count          94,959.00\n",
       "mean       10,426,869.33\n",
       "std       114,821,247.98\n",
       "min                 0.00\n",
       "25%           322,500.00\n",
       "50%         1,680,511.00\n",
       "75%         7,000,000.00\n",
       "max    21,271,935,000.00"
      ]
     },
     "execution_count": 30,
     "metadata": {},
     "output_type": "execute_result"
    }
   ],
   "source": [
    "rounds2_df.describe()"
   ]
  },
  {
   "cell_type": "code",
   "execution_count": 31,
   "metadata": {},
   "outputs": [
    {
     "data": {
      "text/plain": [
       "'10,426,869.33'"
      ]
     },
     "execution_count": 31,
     "metadata": {},
     "output_type": "execute_result"
    }
   ],
   "source": [
    "\"{:,}\".format(round(rounds2_df['raised_amount_usd'].mean(),2))"
   ]
  },
  {
   "cell_type": "markdown",
   "metadata": {},
   "source": [
    "This Data clearly has outliers and imputing with mean would be a wrong choice here, atleast before outlier analysis. So lets impute the values with median."
   ]
  },
  {
   "cell_type": "code",
   "execution_count": 32,
   "metadata": {},
   "outputs": [],
   "source": [
    "rounds2_df['raised_amount_usd'].fillna(rounds2_df['raised_amount_usd'].median(),inplace=True)"
   ]
  },
  {
   "cell_type": "code",
   "execution_count": 33,
   "metadata": {},
   "outputs": [
    {
     "data": {
      "text/plain": [
       "company_permalink          False\n",
       "funding_round_permalink    False\n",
       "funding_round_type         False\n",
       "raised_amount_usd          False\n",
       "dtype: bool"
      ]
     },
     "execution_count": 33,
     "metadata": {},
     "output_type": "execute_result"
    }
   ],
   "source": [
    "rounds2_df.isnull().any()"
   ]
  },
  {
   "cell_type": "markdown",
   "metadata": {},
   "source": [
    "Now we have no null values in rounds2_df"
   ]
  },
  {
   "cell_type": "code",
   "execution_count": 34,
   "metadata": {},
   "outputs": [],
   "source": [
    "pd.set_option('display.max_rows', 500)"
   ]
  },
  {
   "cell_type": "markdown",
   "metadata": {},
   "source": [
    "## Outlier Analysis"
   ]
  },
  {
   "cell_type": "code",
   "execution_count": 35,
   "metadata": {},
   "outputs": [
    {
     "data": {
      "text/plain": [
       "1680511.0"
      ]
     },
     "execution_count": 35,
     "metadata": {},
     "output_type": "execute_result"
    }
   ],
   "source": [
    "rounds2_df['raised_amount_usd'].median()"
   ]
  },
  {
   "cell_type": "code",
   "execution_count": 36,
   "metadata": {},
   "outputs": [
    {
     "data": {
      "text/plain": [
       "8905849.550887786"
      ]
     },
     "execution_count": 36,
     "metadata": {},
     "output_type": "execute_result"
    }
   ],
   "source": [
    "rounds2_df['raised_amount_usd'].mean()"
   ]
  },
  {
   "cell_type": "markdown",
   "metadata": {},
   "source": [
    "#### Clearly data set has a lot of outliers"
   ]
  },
  {
   "cell_type": "markdown",
   "metadata": {},
   "source": [
    "#### Lets create a copy of the dataframe and remove the outliers in the copy. This is important as many times we might need outliers based on our data"
   ]
  },
  {
   "cell_type": "code",
   "execution_count": 37,
   "metadata": {},
   "outputs": [],
   "source": [
    "df2=rounds2_df.copy()"
   ]
  },
  {
   "cell_type": "code",
   "execution_count": 38,
   "metadata": {},
   "outputs": [
    {
     "data": {
      "text/plain": [
       "106562   21,271,935,000.00\n",
       "37569    17,600,000,000.00\n",
       "16470    10,664,943,639.00\n",
       "86136     5,800,000,000.00\n",
       "16474     5,000,000,000.00\n",
       "                ...       \n",
       "42703                 0.00\n",
       "50690                 0.00\n",
       "50632                 0.00\n",
       "45038                 0.00\n",
       "58785                 0.00\n",
       "Name: raised_amount_usd, Length: 114949, dtype: float64"
      ]
     },
     "execution_count": 38,
     "metadata": {},
     "output_type": "execute_result"
    }
   ],
   "source": [
    "rounds2_df['raised_amount_usd'].sort_values(ascending=False)"
   ]
  },
  {
   "cell_type": "code",
   "execution_count": 39,
   "metadata": {},
   "outputs": [
    {
     "data": {
      "text/plain": [
       "<matplotlib.axes._subplots.AxesSubplot at 0x23cb7b05978>"
      ]
     },
     "execution_count": 39,
     "metadata": {},
     "output_type": "execute_result"
    },
    {
     "data": {
      "image/png": "[encoded data removed]",
      "text/plain": [
       "<Figure size 432x288 with 1 Axes>"
      ]
     },
     "metadata": {
      "needs_background": "light"
     },
     "output_type": "display_data"
    }
   ],
   "source": [
    "sns.boxplot(y=rounds2_df['raised_amount_usd'])"
   ]
  },
  {
   "cell_type": "code",
   "execution_count": 40,
   "metadata": {},
   "outputs": [
    {
     "data": {
      "image/png": "[encoded data removed]",
      "text/plain": [
       "<Figure size 432x288 with 1 Axes>"
      ]
     },
     "metadata": {
      "needs_background": "light"
     },
     "output_type": "display_data"
    }
   ],
   "source": [
    "sns.boxplot(y=rounds2_df['raised_amount_usd'])\n",
    "plt.yscale('log')"
   ]
  },
  {
   "cell_type": "code",
   "execution_count": 41,
   "metadata": {},
   "outputs": [],
   "source": [
    "Q1 = rounds2_df['raised_amount_usd'].quantile(0.25)\n",
    "Q3 = rounds2_df['raised_amount_usd'].quantile(0.75)\n",
    "IQR = Q3 - Q1\n",
    "\n",
    "df2 = rounds2_df[~((rounds2_df['raised_amount_usd'] < (Q1 - 1.5 * IQR)) |(rounds2_df['raised_amount_usd'] > (Q3 + 1.5 * IQR)))]"
   ]
  },
  {
   "cell_type": "code",
   "execution_count": 42,
   "metadata": {},
   "outputs": [
    {
     "data": {
      "text/html": [
       "<div>\n",
       "<style scoped>\n",
       "    .dataframe tbody tr th:only-of-type {\n",
       "        vertical-align: middle;\n",
       "    }\n",
       "\n",
       "    .dataframe tbody tr th {\n",
       "        vertical-align: top;\n",
       "    }\n",
       "\n",
       "    .dataframe thead th {\n",
       "        text-align: right;\n",
       "    }\n",
       "</style>\n",
       "<table border=\"1\" class=\"dataframe\">\n",
       "  <thead>\n",
       "    <tr style=\"text-align: right;\">\n",
       "      <th></th>\n",
       "      <th>raised_amount_usd</th>\n",
       "    </tr>\n",
       "  </thead>\n",
       "  <tbody>\n",
       "    <tr>\n",
       "      <td>count</td>\n",
       "      <td>99,278.00</td>\n",
       "    </tr>\n",
       "    <tr>\n",
       "      <td>mean</td>\n",
       "      <td>2,213,603.45</td>\n",
       "    </tr>\n",
       "    <tr>\n",
       "      <td>std</td>\n",
       "      <td>2,589,034.41</td>\n",
       "    </tr>\n",
       "    <tr>\n",
       "      <td>min</td>\n",
       "      <td>0.00</td>\n",
       "    </tr>\n",
       "    <tr>\n",
       "      <td>25%</td>\n",
       "      <td>367,299.25</td>\n",
       "    </tr>\n",
       "    <tr>\n",
       "      <td>50%</td>\n",
       "      <td>1,680,511.00</td>\n",
       "    </tr>\n",
       "    <tr>\n",
       "      <td>75%</td>\n",
       "      <td>2,500,000.00</td>\n",
       "    </tr>\n",
       "    <tr>\n",
       "      <td>max</td>\n",
       "      <td>11,750,000.00</td>\n",
       "    </tr>\n",
       "  </tbody>\n",
       "</table>\n",
       "</div>"
      ],
      "text/plain": [
       "       raised_amount_usd\n",
       "count          99,278.00\n",
       "mean        2,213,603.45\n",
       "std         2,589,034.41\n",
       "min                 0.00\n",
       "25%           367,299.25\n",
       "50%         1,680,511.00\n",
       "75%         2,500,000.00\n",
       "max        11,750,000.00"
      ]
     },
     "execution_count": 42,
     "metadata": {},
     "output_type": "execute_result"
    }
   ],
   "source": [
    "df2.describe()"
   ]
  },
  {
   "cell_type": "code",
   "execution_count": 43,
   "metadata": {},
   "outputs": [
    {
     "data": {
      "text/plain": [
       "2213603.447521102"
      ]
     },
     "execution_count": 43,
     "metadata": {},
     "output_type": "execute_result"
    }
   ],
   "source": [
    "df2['raised_amount_usd'].mean()"
   ]
  },
  {
   "cell_type": "code",
   "execution_count": 44,
   "metadata": {},
   "outputs": [
    {
     "data": {
      "text/plain": [
       "8905849.550887786"
      ]
     },
     "execution_count": 44,
     "metadata": {},
     "output_type": "execute_result"
    }
   ],
   "source": [
    "rounds2_df['raised_amount_usd'].mean()"
   ]
  },
  {
   "cell_type": "code",
   "execution_count": 45,
   "metadata": {},
   "outputs": [
    {
     "data": {
      "text/plain": [
       "110202     0.00\n",
       "41767      0.00\n",
       "42506      0.00\n",
       "97965      0.00\n",
       "42703      0.00\n",
       "43119      0.00\n",
       "43630      0.00\n",
       "97786      0.00\n",
       "41549      0.00\n",
       "81020      0.00\n",
       "44601      0.00\n",
       "44798      0.00\n",
       "44810      0.00\n",
       "45038      0.00\n",
       "45246      0.00\n",
       "89168      0.00\n",
       "45571      0.00\n",
       "97700      0.00\n",
       "98218      0.00\n",
       "2893       0.00\n",
       "41183      0.00\n",
       "38227      0.00\n",
       "7893       0.00\n",
       "38726      0.00\n",
       "38789      0.00\n",
       "111196     0.00\n",
       "98988      0.00\n",
       "88958      0.00\n",
       "40116      0.00\n",
       "40275      0.00\n",
       "40290      0.00\n",
       "40322      0.00\n",
       "40556      0.00\n",
       "40583      0.00\n",
       "40707      0.00\n",
       "40840      0.00\n",
       "7591       0.00\n",
       "81683      0.00\n",
       "45578      0.00\n",
       "80898      0.00\n",
       "89216      0.00\n",
       "46291      0.00\n",
       "1060       0.00\n",
       "49945      0.00\n",
       "89330      0.00\n",
       "50086      0.00\n",
       "50087      0.00\n",
       "50323      0.00\n",
       "50382      0.00\n",
       "96589      0.00\n",
       "50430      0.00\n",
       "50632      0.00\n",
       "50690      0.00\n",
       "110099     0.00\n",
       "51266      0.00\n",
       "6475       0.00\n",
       "80429      0.00\n",
       "51330      0.00\n",
       "110065     0.00\n",
       "49749      0.00\n",
       "38020      0.00\n",
       "49544      0.00\n",
       "6665       0.00\n",
       "46600      0.00\n",
       "110536     0.00\n",
       "6844       0.00\n",
       "47326      0.00\n",
       "110494     0.00\n",
       "47494      0.00\n",
       "47846      0.00\n",
       "47902      0.00\n",
       "96990      0.00\n",
       "48113      0.00\n",
       "110419     0.00\n",
       "1032       0.00\n",
       "48296      0.00\n",
       "96921      0.00\n",
       "48769      0.00\n",
       "48803      0.00\n",
       "48879      0.00\n",
       "49157      0.00\n",
       "51368      0.00\n",
       "88869      0.00\n",
       "37823      0.00\n",
       "28946      0.00\n",
       "29008      0.00\n",
       "84302      0.00\n",
       "29263      0.00\n",
       "101292     0.00\n",
       "84298      0.00\n",
       "8999       0.00\n",
       "28794      0.00\n",
       "101090     0.00\n",
       "84257      0.00\n",
       "100989     0.00\n",
       "29997      0.00\n",
       "84131      0.00\n",
       "100891     0.00\n",
       "30993      0.00\n",
       "31092      0.00\n",
       "29948      0.00\n",
       "101471     0.00\n",
       "101562     0.00\n",
       "28299      0.00\n",
       "25766      0.00\n",
       "25789      0.00\n",
       "102163     0.00\n",
       "26185      0.00\n",
       "102035     0.00\n",
       "112338     0.00\n",
       "26897      0.00\n",
       "26974      0.00\n",
       "27138      0.00\n",
       "27440      0.00\n",
       "101745     0.00\n",
       "27544      0.00\n",
       "27700      0.00\n",
       "101682     0.00\n",
       "101666     0.00\n",
       "28168      0.00\n",
       "101597     0.00\n",
       "31093      0.00\n",
       "31103      0.00\n",
       "31141      0.00\n",
       "31429      0.00\n",
       "35810      0.00\n",
       "99790      0.00\n",
       "684        0.00\n",
       "36345      0.00\n",
       "36446      0.00\n",
       "82232      0.00\n",
       "36678      0.00\n",
       "82079      0.00\n",
       "36904      0.00\n",
       "37107      0.00\n",
       "37167      0.00\n",
       "37212      0.00\n",
       "37449      0.00\n",
       "37552      0.00\n",
       "37578      0.00\n",
       "37719      0.00\n",
       "37720      0.00\n",
       "35063      0.00\n",
       "38019      0.00\n",
       "35027      0.00\n",
       "34522      0.00\n",
       "31488      0.00\n",
       "31502      0.00\n",
       "111726     0.00\n",
       "32226      0.00\n",
       "32663      0.00\n",
       "83594      0.00\n",
       "592        0.00\n",
       "100377     0.00\n",
       "100236     0.00\n",
       "34033      0.00\n",
       "111541     0.00\n",
       "100187     0.00\n",
       "34213      0.00\n",
       "8477       0.00\n",
       "34341      0.00\n",
       "82868      0.00\n",
       "82813      0.00\n",
       "34774      0.00\n",
       "25425      0.00\n",
       "51397      0.00\n",
       "51476      0.00\n",
       "4648       0.00\n",
       "65757      0.00\n",
       "65934      0.00\n",
       "66023      0.00\n",
       "106162     0.00\n",
       "66445      0.00\n",
       "92335      0.00\n",
       "78004      0.00\n",
       "92278      0.00\n",
       "90319      0.00\n",
       "4489       0.00\n",
       "67457      0.00\n",
       "77799      0.00\n",
       "108609     0.00\n",
       "92103      0.00\n",
       "108548     0.00\n",
       "67244      0.00\n",
       "78047      0.00\n",
       "78048      0.00\n",
       "65298      0.00\n",
       "62641      0.00\n",
       "63297      0.00\n",
       "93342      0.00\n",
       "63621      0.00\n",
       "93212      0.00\n",
       "63668      0.00\n",
       "63838      0.00\n",
       "63849      0.00\n",
       "78125      0.00\n",
       "108986     0.00\n",
       "64193      0.00\n",
       "64472      0.00\n",
       "108925     0.00\n",
       "92941      0.00\n",
       "64809      0.00\n",
       "64817      0.00\n",
       "64857      0.00\n",
       "68171      0.00\n",
       "68333      0.00\n",
       "68472      0.00\n",
       "107651     0.00\n",
       "72348      0.00\n",
       "75678      0.00\n",
       "72766      0.00\n",
       "90594      0.00\n",
       "73350      0.00\n",
       "91037      0.00\n",
       "90988      0.00\n",
       "73627      0.00\n",
       "74057      0.00\n",
       "74299      0.00\n",
       "90870      0.00\n",
       "74300      0.00\n",
       "74414      0.00\n",
       "74694      0.00\n",
       "74697      0.00\n",
       "75030      0.00\n",
       "90694      0.00\n",
       "114520     0.00\n",
       "93609      0.00\n",
       "71198      0.00\n",
       "91451      0.00\n",
       "77218      0.00\n",
       "77216      0.00\n",
       "69380      0.00\n",
       "77215      0.00\n",
       "69523      0.00\n",
       "76792      0.00\n",
       "69650      0.00\n",
       "69855      0.00\n",
       "69890      0.00\n",
       "69937      0.00\n",
       "76706      0.00\n",
       "4164       0.00\n",
       "108306     0.00\n",
       "91601      0.00\n",
       "76545      0.00\n",
       "70708      0.00\n",
       "70855      0.00\n",
       "71162      0.00\n",
       "3079       0.00\n",
       "90106      0.00\n",
       "62482      0.00\n",
       "54433      0.00\n",
       "54862      0.00\n",
       "55406      0.00\n",
       "55443      0.00\n",
       "55463      0.00\n",
       "95483      0.00\n",
       "55472      0.00\n",
       "89653      0.00\n",
       "95440      0.00\n",
       "55677      0.00\n",
       "55680      0.00\n",
       "109720     0.00\n",
       "79586      0.00\n",
       "56267      0.00\n",
       "56484      0.00\n",
       "56542      0.00\n",
       "55675      0.00\n",
       "1181       0.00\n",
       "95779      0.00\n",
       "106443     0.00\n",
       "51631      0.00\n",
       "6385       0.00\n",
       "51880      0.00\n",
       "51999      0.00\n",
       "96302      0.00\n",
       "1141       0.00\n",
       "52332      0.00\n",
       "52366      0.00\n",
       "52494      0.00\n",
       "96145      0.00\n",
       "53387      0.00\n",
       "53545      0.00\n",
       "53663      0.00\n",
       "114305     0.00\n",
       "109870     0.00\n",
       "53857      0.00\n",
       "54096      0.00\n",
       "56719      0.00\n",
       "56895      0.00\n",
       "79322      0.00\n",
       "5685       0.00\n",
       "59675      0.00\n",
       "78512      0.00\n",
       "59932      0.00\n",
       "78500      0.00\n",
       "93940      0.00\n",
       "60697      0.00\n",
       "5226       0.00\n",
       "60884      0.00\n",
       "61002      0.00\n",
       "61166      0.00\n",
       "61788      0.00\n",
       "109167     0.00\n",
       "5066       0.00\n",
       "62363      0.00\n",
       "62401      0.00\n",
       "62463      0.00\n",
       "62479      0.00\n",
       "59510      0.00\n",
       "62606      0.00\n",
       "59418      0.00\n",
       "59325      0.00\n",
       "57422      0.00\n",
       "57423      0.00\n",
       "94918      0.00\n",
       "94912      0.00\n",
       "57620      0.00\n",
       "57656      0.00\n",
       "105972     0.00\n",
       "5606       0.00\n",
       "78754      0.00\n",
       "78725      0.00\n",
       "58785      0.00\n",
       "58870      0.00\n",
       "58998      0.00\n",
       "59006      0.00\n",
       "94453      0.00\n",
       "59076      0.00\n",
       "94342      0.00\n",
       "59372      0.00\n",
       "25326      0.00\n",
       "42706      0.00\n",
       "18519      0.00\n",
       "16430      0.00\n",
       "86416      0.00\n",
       "13854      0.00\n",
       "13733      0.00\n",
       "85170      0.00\n",
       "9922       0.00\n",
       "85351      0.00\n",
       "13415      0.00\n",
       "13295      0.00\n",
       "17210      0.00\n",
       "17665      0.00\n",
       "2258       0.00\n",
       "13193      0.00\n",
       "13019      0.00\n",
       "17733      0.00\n",
       "12968      0.00\n",
       "24809      0.00\n",
       "17744      0.00\n",
       "12869      0.00\n",
       "12854      0.00\n",
       "10436      0.00\n",
       "113565     0.00\n",
       "12570      0.00\n",
       "22347      0.00\n",
       "17719      0.00\n",
       "85211      0.00\n",
       "10565      0.00\n",
       "16337      0.00\n",
       "324        0.00\n",
       "23842      0.00\n",
       "23841      0.00\n",
       "10716      0.00\n",
       "23710      0.00\n",
       "15247      0.00\n",
       "112541     0.00\n",
       "102610     0.00\n",
       "86783      0.00\n",
       "15688      0.00\n",
       "114695     0.00\n",
       "14809      0.00\n",
       "15832      0.00\n",
       "23385      0.00\n",
       "24146      0.00\n",
       "23382      0.00\n",
       "24210      0.00\n",
       "85324      0.00\n",
       "15949      0.00\n",
       "15976      0.00\n",
       "102528     0.00\n",
       "16142      0.00\n",
       "16215      0.00\n",
       "14228      0.00\n",
       "24300      0.00\n",
       "102914     0.00\n",
       "25048      0.00\n",
       "17548      0.00\n",
       "9633       0.00\n",
       "10223      0.00\n",
       "11781      0.00\n",
       "11503      0.00\n",
       "103452     0.00\n",
       "87460      0.00\n",
       "19029      0.00\n",
       "19006      0.00\n",
       "25050      0.00\n",
       "104911     0.00\n",
       "104897     0.00\n",
       "103593     0.00\n",
       "20100      0.00\n",
       "22230      0.00\n",
       "21850      0.00\n",
       "113020     0.00\n",
       "105009     0.00\n",
       "9612       0.00\n",
       "10130      0.00\n",
       "10051      0.00\n",
       "21483      0.00\n",
       "21481      0.00\n",
       "88091      0.00\n",
       "85452      0.00\n",
       "20662      0.00\n",
       "11894      0.00\n",
       "94910      1.00\n",
       "109285     1.00\n",
       "112551     1.00\n",
       "112552     1.00\n",
       "87826      1.00\n",
       "97007      2.00\n",
       "53858      2.00\n",
       "46312      2.00\n",
       "23536      4.00\n",
       "26216      4.00\n",
       "23535      5.00\n",
       "14707      5.00\n",
       "84603      5.00\n",
       "63867      5.00\n",
       "92992      6.00\n",
       "89394      6.00\n",
       "114644     6.00\n",
       "15880     10.00\n",
       "84275     10.00\n",
       "72843     11.00\n",
       "100450    12.00\n",
       "98538     18.00\n",
       "92476     20.00\n",
       "32352     22.00\n",
       "113744    23.00\n",
       "48277     25.00\n",
       "80770     27.00\n",
       "78527     27.00\n",
       "95030     29.00\n",
       "99661     30.00\n",
       "58012     40.00\n",
       "91477     50.00\n",
       "99903     63.00\n",
       "55160     68.00\n",
       "13668     70.00\n",
       "63739     77.00\n",
       "88866     80.00\n",
       "114467    80.00\n",
       "7810     100.00\n",
       "12994    100.00\n",
       "6462     100.00\n",
       "39341    100.00\n",
       "11231    100.00\n",
       "42681    100.00\n",
       "102529   100.00\n",
       "22406    100.00\n",
       "58115    100.00\n",
       "86003    100.00\n",
       "29891    102.00\n",
       "105174   120.00\n",
       "94783    122.00\n",
       "34515    123.00\n",
       "11399    144.00\n",
       "22093    150.00\n",
       "14688    170.00\n",
       "11435    215.00\n",
       "81368    220.00\n",
       "89086    230.00\n",
       "90692    232.00\n",
       "89082    268.00\n",
       "64747    285.00\n",
       "88213    291.00\n",
       "21343    300.00\n",
       "89789    300.00\n",
       "90315    317.00\n",
       "89084    344.00\n",
       "50171    365.00\n",
       "47145    400.00\n",
       "99368    400.00\n",
       "59813    428.00\n",
       "104982   450.00\n",
       "21831    500.00\n",
       "83884    500.00\n",
       "99902    500.00\n",
       "22323    500.00\n",
       "41437    500.00\n",
       "11170    500.00\n",
       "69413    500.00\n",
       "73372    500.00\n",
       "31099    500.00\n",
       "63643    540.00\n",
       "103750   540.00\n",
       "85086    569.00\n",
       "54370    600.00\n",
       "15380    600.00\n",
       "Name: raised_amount_usd, dtype: float64"
      ]
     },
     "execution_count": 45,
     "metadata": {},
     "output_type": "execute_result"
    }
   ],
   "source": [
    "df2['raised_amount_usd'].sort_values(ascending=True).head(500)"
   ]
  },
  {
   "cell_type": "markdown",
   "metadata": {},
   "source": [
    "## Creating the Master frame\n",
    "Lets merge the df2 and companies_df on our primary key company_permalink (left inner join)"
   ]
  },
  {
   "cell_type": "code",
   "execution_count": 46,
   "metadata": {},
   "outputs": [],
   "source": [
    "master_frame1=pd.merge(df2,companies_df,how=\"left\",left_on=\"company_permalink\",right_on=\"permalink\")"
   ]
  },
  {
   "cell_type": "code",
   "execution_count": 47,
   "metadata": {},
   "outputs": [
    {
     "data": {
      "text/html": [
       "<div>\n",
       "<style scoped>\n",
       "    .dataframe tbody tr th:only-of-type {\n",
       "        vertical-align: middle;\n",
       "    }\n",
       "\n",
       "    .dataframe tbody tr th {\n",
       "        vertical-align: top;\n",
       "    }\n",
       "\n",
       "    .dataframe thead th {\n",
       "        text-align: right;\n",
       "    }\n",
       "</style>\n",
       "<table border=\"1\" class=\"dataframe\">\n",
       "  <thead>\n",
       "    <tr style=\"text-align: right;\">\n",
       "      <th></th>\n",
       "      <th>company_permalink</th>\n",
       "      <th>funding_round_permalink</th>\n",
       "      <th>funding_round_type</th>\n",
       "      <th>raised_amount_usd</th>\n",
       "      <th>permalink</th>\n",
       "      <th>name</th>\n",
       "      <th>category_list</th>\n",
       "      <th>status</th>\n",
       "      <th>country_code</th>\n",
       "      <th>state_code</th>\n",
       "      <th>region</th>\n",
       "      <th>city</th>\n",
       "    </tr>\n",
       "  </thead>\n",
       "  <tbody>\n",
       "    <tr>\n",
       "      <td>0</td>\n",
       "      <td>/organization/-fame</td>\n",
       "      <td>/funding-round/9a01d05418af9f794eebff7ace91f638</td>\n",
       "      <td>venture</td>\n",
       "      <td>10,000,000.00</td>\n",
       "      <td>/organization/-fame</td>\n",
       "      <td>#fame</td>\n",
       "      <td>Media</td>\n",
       "      <td>operating</td>\n",
       "      <td>IND</td>\n",
       "      <td>16</td>\n",
       "      <td>Mumbai</td>\n",
       "      <td>Mumbai</td>\n",
       "    </tr>\n",
       "    <tr>\n",
       "      <td>1</td>\n",
       "      <td>/organization/-qounter</td>\n",
       "      <td>/funding-round/22dacff496eb7acb2b901dec1dfe5633</td>\n",
       "      <td>venture</td>\n",
       "      <td>1,680,511.00</td>\n",
       "      <td>/organization/-qounter</td>\n",
       "      <td>:Qounter</td>\n",
       "      <td>Application Platforms|Real Time|Social Network...</td>\n",
       "      <td>operating</td>\n",
       "      <td>USA</td>\n",
       "      <td>DE</td>\n",
       "      <td>DE - Other</td>\n",
       "      <td>Delaware City</td>\n",
       "    </tr>\n",
       "    <tr>\n",
       "      <td>2</td>\n",
       "      <td>/organization/-qounter</td>\n",
       "      <td>/funding-round/b44fbb94153f6cdef13083530bb48030</td>\n",
       "      <td>seed</td>\n",
       "      <td>700,000.00</td>\n",
       "      <td>/organization/-qounter</td>\n",
       "      <td>:Qounter</td>\n",
       "      <td>Application Platforms|Real Time|Social Network...</td>\n",
       "      <td>operating</td>\n",
       "      <td>USA</td>\n",
       "      <td>DE</td>\n",
       "      <td>DE - Other</td>\n",
       "      <td>Delaware City</td>\n",
       "    </tr>\n",
       "    <tr>\n",
       "      <td>3</td>\n",
       "      <td>/organization/-the-one-of-them-inc-</td>\n",
       "      <td>/funding-round/650b8f704416801069bb178a1418776b</td>\n",
       "      <td>venture</td>\n",
       "      <td>3,406,878.00</td>\n",
       "      <td>/organization/-the-one-of-them-inc-</td>\n",
       "      <td>(THE) ONE of THEM,Inc.</td>\n",
       "      <td>Apps|Games|Mobile</td>\n",
       "      <td>operating</td>\n",
       "      <td>NaN</td>\n",
       "      <td>NaN</td>\n",
       "      <td>NaN</td>\n",
       "      <td>NaN</td>\n",
       "    </tr>\n",
       "    <tr>\n",
       "      <td>4</td>\n",
       "      <td>/organization/0-6-com</td>\n",
       "      <td>/funding-round/5727accaeaa57461bd22a9bdd945382d</td>\n",
       "      <td>venture</td>\n",
       "      <td>2,000,000.00</td>\n",
       "      <td>/organization/0-6-com</td>\n",
       "      <td>0-6.com</td>\n",
       "      <td>Curated Web</td>\n",
       "      <td>operating</td>\n",
       "      <td>CHN</td>\n",
       "      <td>22</td>\n",
       "      <td>Beijing</td>\n",
       "      <td>Beijing</td>\n",
       "    </tr>\n",
       "  </tbody>\n",
       "</table>\n",
       "</div>"
      ],
      "text/plain": [
       "                     company_permalink  \\\n",
       "0                  /organization/-fame   \n",
       "1               /organization/-qounter   \n",
       "2               /organization/-qounter   \n",
       "3  /organization/-the-one-of-them-inc-   \n",
       "4                /organization/0-6-com   \n",
       "\n",
       "                           funding_round_permalink funding_round_type  \\\n",
       "0  /funding-round/9a01d05418af9f794eebff7ace91f638            venture   \n",
       "1  /funding-round/22dacff496eb7acb2b901dec1dfe5633            venture   \n",
       "2  /funding-round/b44fbb94153f6cdef13083530bb48030               seed   \n",
       "3  /funding-round/650b8f704416801069bb178a1418776b            venture   \n",
       "4  /funding-round/5727accaeaa57461bd22a9bdd945382d            venture   \n",
       "\n",
       "   raised_amount_usd                            permalink  \\\n",
       "0      10,000,000.00                  /organization/-fame   \n",
       "1       1,680,511.00               /organization/-qounter   \n",
       "2         700,000.00               /organization/-qounter   \n",
       "3       3,406,878.00  /organization/-the-one-of-them-inc-   \n",
       "4       2,000,000.00                /organization/0-6-com   \n",
       "\n",
       "                     name                                      category_list  \\\n",
       "0                   #fame                                              Media   \n",
       "1                :Qounter  Application Platforms|Real Time|Social Network...   \n",
       "2                :Qounter  Application Platforms|Real Time|Social Network...   \n",
       "3  (THE) ONE of THEM,Inc.                                  Apps|Games|Mobile   \n",
       "4                 0-6.com                                        Curated Web   \n",
       "\n",
       "      status country_code state_code      region           city  \n",
       "0  operating          IND         16      Mumbai         Mumbai  \n",
       "1  operating          USA         DE  DE - Other  Delaware City  \n",
       "2  operating          USA         DE  DE - Other  Delaware City  \n",
       "3  operating          NaN        NaN         NaN            NaN  \n",
       "4  operating          CHN         22     Beijing        Beijing  "
      ]
     },
     "execution_count": 47,
     "metadata": {},
     "output_type": "execute_result"
    }
   ],
   "source": [
    "master_frame1.head()"
   ]
  },
  {
   "cell_type": "code",
   "execution_count": 48,
   "metadata": {},
   "outputs": [
    {
     "name": "stdout",
     "output_type": "stream",
     "text": [
      "<class 'pandas.core.frame.DataFrame'>\n",
      "Int64Index: 99278 entries, 0 to 99277\n",
      "Data columns (total 12 columns):\n",
      "company_permalink          99278 non-null object\n",
      "funding_round_permalink    99278 non-null object\n",
      "funding_round_type         99278 non-null object\n",
      "raised_amount_usd          99278 non-null float64\n",
      "permalink                  99271 non-null object\n",
      "name                       99270 non-null object\n",
      "category_list              96082 non-null object\n",
      "status                     99271 non-null object\n",
      "country_code               91283 non-null object\n",
      "state_code                 89246 non-null object\n",
      "region                     89980 non-null object\n",
      "city                       89982 non-null object\n",
      "dtypes: float64(1), object(11)\n",
      "memory usage: 9.8+ MB\n"
     ]
    }
   ],
   "source": [
    "master_frame1.info()"
   ]
  },
  {
   "cell_type": "code",
   "execution_count": 49,
   "metadata": {},
   "outputs": [
    {
     "data": {
      "text/plain": [
       "(99278, 12)"
      ]
     },
     "execution_count": 49,
     "metadata": {},
     "output_type": "execute_result"
    }
   ],
   "source": [
    "master_frame1.shape"
   ]
  },
  {
   "cell_type": "code",
   "execution_count": 50,
   "metadata": {},
   "outputs": [
    {
     "data": {
      "text/plain": [
       "company_permalink          False\n",
       "funding_round_permalink    False\n",
       "funding_round_type         False\n",
       "raised_amount_usd          False\n",
       "permalink                   True\n",
       "name                        True\n",
       "category_list               True\n",
       "status                      True\n",
       "country_code                True\n",
       "state_code                  True\n",
       "region                      True\n",
       "city                        True\n",
       "dtype: bool"
      ]
     },
     "execution_count": 50,
     "metadata": {},
     "output_type": "execute_result"
    }
   ],
   "source": [
    "master_frame1.isnull().any()"
   ]
  },
  {
   "cell_type": "code",
   "execution_count": 51,
   "metadata": {},
   "outputs": [
    {
     "data": {
      "text/html": [
       "<div>\n",
       "<style scoped>\n",
       "    .dataframe tbody tr th:only-of-type {\n",
       "        vertical-align: middle;\n",
       "    }\n",
       "\n",
       "    .dataframe tbody tr th {\n",
       "        vertical-align: top;\n",
       "    }\n",
       "\n",
       "    .dataframe thead th {\n",
       "        text-align: right;\n",
       "    }\n",
       "</style>\n",
       "<table border=\"1\" class=\"dataframe\">\n",
       "  <thead>\n",
       "    <tr style=\"text-align: right;\">\n",
       "      <th></th>\n",
       "      <th>company_permalink</th>\n",
       "      <th>funding_round_permalink</th>\n",
       "      <th>funding_round_type</th>\n",
       "      <th>raised_amount_usd</th>\n",
       "      <th>permalink</th>\n",
       "      <th>name</th>\n",
       "      <th>category_list</th>\n",
       "      <th>status</th>\n",
       "      <th>country_code</th>\n",
       "      <th>state_code</th>\n",
       "      <th>region</th>\n",
       "      <th>city</th>\n",
       "    </tr>\n",
       "  </thead>\n",
       "  <tbody>\n",
       "    <tr>\n",
       "      <td>25300</td>\n",
       "      <td>/organization/e-cãbica</td>\n",
       "      <td>/funding-round/8491f74869e4fe8ba9c378394f8fbdea</td>\n",
       "      <td>seed</td>\n",
       "      <td>1,680,511.00</td>\n",
       "      <td>NaN</td>\n",
       "      <td>NaN</td>\n",
       "      <td>NaN</td>\n",
       "      <td>NaN</td>\n",
       "      <td>NaN</td>\n",
       "      <td>NaN</td>\n",
       "      <td>NaN</td>\n",
       "      <td>NaN</td>\n",
       "    </tr>\n",
       "    <tr>\n",
       "      <td>27243</td>\n",
       "      <td>/organization/energystone-games-çµç³æ¸¸æ</td>\n",
       "      <td>/funding-round/b89553f3d2279c5683ae93f45a21cfe0</td>\n",
       "      <td>seed</td>\n",
       "      <td>1,680,511.00</td>\n",
       "      <td>NaN</td>\n",
       "      <td>NaN</td>\n",
       "      <td>NaN</td>\n",
       "      <td>NaN</td>\n",
       "      <td>NaN</td>\n",
       "      <td>NaN</td>\n",
       "      <td>NaN</td>\n",
       "      <td>NaN</td>\n",
       "    </tr>\n",
       "    <tr>\n",
       "      <td>38925</td>\n",
       "      <td>/organization/huizuche-com-æ ç§ÿè½¦</td>\n",
       "      <td>/funding-round/8f8a32dbeeb0f831a78702f83af78a36</td>\n",
       "      <td>seed</td>\n",
       "      <td>1,680,511.00</td>\n",
       "      <td>NaN</td>\n",
       "      <td>NaN</td>\n",
       "      <td>NaN</td>\n",
       "      <td>NaN</td>\n",
       "      <td>NaN</td>\n",
       "      <td>NaN</td>\n",
       "      <td>NaN</td>\n",
       "      <td>NaN</td>\n",
       "    </tr>\n",
       "    <tr>\n",
       "      <td>50393</td>\n",
       "      <td>/organization/magnet-tech-ç£ç³ç§æ</td>\n",
       "      <td>/funding-round/8fc91fbb32bc95e97f151dd0cb4166bf</td>\n",
       "      <td>seed</td>\n",
       "      <td>1,625,585.00</td>\n",
       "      <td>NaN</td>\n",
       "      <td>NaN</td>\n",
       "      <td>NaN</td>\n",
       "      <td>NaN</td>\n",
       "      <td>NaN</td>\n",
       "      <td>NaN</td>\n",
       "      <td>NaN</td>\n",
       "      <td>NaN</td>\n",
       "    </tr>\n",
       "    <tr>\n",
       "      <td>87286</td>\n",
       "      <td>/organization/tipcat-interactive-æ²èÿä¿¡æ¯ç...</td>\n",
       "      <td>/funding-round/41005928a1439cb2d706a43cb661f60f</td>\n",
       "      <td>seed</td>\n",
       "      <td>1,680,511.00</td>\n",
       "      <td>NaN</td>\n",
       "      <td>NaN</td>\n",
       "      <td>NaN</td>\n",
       "      <td>NaN</td>\n",
       "      <td>NaN</td>\n",
       "      <td>NaN</td>\n",
       "      <td>NaN</td>\n",
       "      <td>NaN</td>\n",
       "    </tr>\n",
       "    <tr>\n",
       "      <td>95022</td>\n",
       "      <td>/organization/weiche-tech-åè½¦ç§æ</td>\n",
       "      <td>/funding-round/f74e457f838b81fa0b29649740f186d8</td>\n",
       "      <td>venture</td>\n",
       "      <td>1,680,511.00</td>\n",
       "      <td>NaN</td>\n",
       "      <td>NaN</td>\n",
       "      <td>NaN</td>\n",
       "      <td>NaN</td>\n",
       "      <td>NaN</td>\n",
       "      <td>NaN</td>\n",
       "      <td>NaN</td>\n",
       "      <td>NaN</td>\n",
       "    </tr>\n",
       "    <tr>\n",
       "      <td>98347</td>\n",
       "      <td>/organization/zengame-ç¦",
       "æ¸¸ç§æ</td>\n",
       "      <td>/funding-round/6ba28fb4f3eadf5a9c6c81bc5dde6cdf</td>\n",
       "      <td>seed</td>\n",
       "      <td>1,680,511.00</td>\n",
       "      <td>NaN</td>\n",
       "      <td>NaN</td>\n",
       "      <td>NaN</td>\n",
       "      <td>NaN</td>\n",
       "      <td>NaN</td>\n",
       "      <td>NaN</td>\n",
       "      <td>NaN</td>\n",
       "      <td>NaN</td>\n",
       "    </tr>\n",
       "  </tbody>\n",
       "</table>\n",
       "</div>"
      ],
      "text/plain": [
       "                                       company_permalink  \\\n",
       "25300                            /organization/e-cãbica   \n",
       "27243       /organization/energystone-games-çµç³æ¸¸æ   \n",
       "38925               /organization/huizuche-com-æ ç§ÿè½¦   \n",
       "50393             /organization/magnet-tech-ç£ç³ç§æ   \n",
       "87286  /organization/tipcat-interactive-æ²èÿä¿¡æ¯ç...   \n",
       "95022             /organization/weiche-tech-åè½¦ç§æ   \n",
       "98347                 /organization/zengame-ç¦\n",
       "æ¸¸ç§æ   \n",
       "\n",
       "                               funding_round_permalink funding_round_type  \\\n",
       "25300  /funding-round/8491f74869e4fe8ba9c378394f8fbdea               seed   \n",
       "27243  /funding-round/b89553f3d2279c5683ae93f45a21cfe0               seed   \n",
       "38925  /funding-round/8f8a32dbeeb0f831a78702f83af78a36               seed   \n",
       "50393  /funding-round/8fc91fbb32bc95e97f151dd0cb4166bf               seed   \n",
       "87286  /funding-round/41005928a1439cb2d706a43cb661f60f               seed   \n",
       "95022  /funding-round/f74e457f838b81fa0b29649740f186d8            venture   \n",
       "98347  /funding-round/6ba28fb4f3eadf5a9c6c81bc5dde6cdf               seed   \n",
       "\n",
       "       raised_amount_usd permalink name category_list status country_code  \\\n",
       "25300       1,680,511.00       NaN  NaN           NaN    NaN          NaN   \n",
       "27243       1,680,511.00       NaN  NaN           NaN    NaN          NaN   \n",
       "38925       1,680,511.00       NaN  NaN           NaN    NaN          NaN   \n",
       "50393       1,625,585.00       NaN  NaN           NaN    NaN          NaN   \n",
       "87286       1,680,511.00       NaN  NaN           NaN    NaN          NaN   \n",
       "95022       1,680,511.00       NaN  NaN           NaN    NaN          NaN   \n",
       "98347       1,680,511.00       NaN  NaN           NaN    NaN          NaN   \n",
       "\n",
       "      state_code region city  \n",
       "25300        NaN    NaN  NaN  \n",
       "27243        NaN    NaN  NaN  \n",
       "38925        NaN    NaN  NaN  \n",
       "50393        NaN    NaN  NaN  \n",
       "87286        NaN    NaN  NaN  \n",
       "95022        NaN    NaN  NaN  \n",
       "98347        NaN    NaN  NaN  "
      ]
     },
     "execution_count": 51,
     "metadata": {},
     "output_type": "execute_result"
    }
   ],
   "source": [
    "master_frame1.loc[master_frame1['permalink'].isnull()]"
   ]
  },
  {
   "cell_type": "code",
   "execution_count": 52,
   "metadata": {},
   "outputs": [
    {
     "data": {
      "text/plain": [
       "company_permalink              0\n",
       "funding_round_permalink        0\n",
       "funding_round_type             0\n",
       "raised_amount_usd              0\n",
       "permalink                      7\n",
       "name                           8\n",
       "category_list               3196\n",
       "status                         7\n",
       "country_code                7995\n",
       "state_code                 10032\n",
       "region                      9298\n",
       "city                        9296\n",
       "dtype: int64"
      ]
     },
     "execution_count": 52,
     "metadata": {},
     "output_type": "execute_result"
    }
   ],
   "source": [
    "master_frame1.isnull().sum()"
   ]
  },
  {
   "cell_type": "code",
   "execution_count": 53,
   "metadata": {},
   "outputs": [
    {
     "data": {
      "text/plain": [
       "company_permalink          0.00\n",
       "funding_round_permalink    0.00\n",
       "funding_round_type         0.00\n",
       "raised_amount_usd          0.00\n",
       "permalink                  0.01\n",
       "name                       0.01\n",
       "category_list              3.22\n",
       "status                     0.01\n",
       "country_code               8.05\n",
       "state_code                10.10\n",
       "region                     9.37\n",
       "city                       9.36\n",
       "dtype: float64"
      ]
     },
     "execution_count": 53,
     "metadata": {},
     "output_type": "execute_result"
    }
   ],
   "source": [
    "master_frame1.isnull().sum()/len(master_frame1)*100"
   ]
  },
  {
   "cell_type": "code",
   "execution_count": 54,
   "metadata": {},
   "outputs": [
    {
     "data": {
      "text/plain": [
       "funding_round_type\n",
       "venture                 152,562,245,913.00\n",
       "seed                     27,451,803,168.00\n",
       "debt_financing           11,476,644,789.00\n",
       "undisclosed               8,263,920,769.00\n",
       "angel                     5,658,705,518.00\n",
       "equity_crowdfunding       3,976,472,982.00\n",
       "private_equity            3,898,661,682.00\n",
       "grant                     2,440,540,161.00\n",
       "convertible_note          1,738,199,536.00\n",
       "post_ipo_equity           1,342,115,419.00\n",
       "product_crowdfunding        327,572,692.00\n",
       "post_ipo_debt               267,311,723.00\n",
       "non_equity_assistance       213,318,121.00\n",
       "secondary_market            144,610,590.00\n",
       "Name: raised_amount_usd, dtype: float64"
      ]
     },
     "execution_count": 54,
     "metadata": {},
     "output_type": "execute_result"
    }
   ],
   "source": [
    "master_frame1.groupby('funding_round_type')['raised_amount_usd'].sum().sort_values(ascending=False)"
   ]
  },
  {
   "cell_type": "code",
   "execution_count": 55,
   "metadata": {},
   "outputs": [
    {
     "data": {
      "text/plain": [
       "funding_round_type\n",
       "post_ipo_equity         4,315,483.66\n",
       "post_ipo_debt           3,931,054.75\n",
       "venture                 3,582,955.52\n",
       "private_equity          3,484,058.70\n",
       "secondary_market        1,902,770.92\n",
       "debt_financing          1,866,424.59\n",
       "undisclosed             1,759,778.70\n",
       "equity_crowdfunding     1,222,401.78\n",
       "grant                   1,174,465.91\n",
       "non_equity_assistance   1,122,726.95\n",
       "convertible_note          968,896.06\n",
       "angel                     932,241.44\n",
       "seed                      900,265.74\n",
       "product_crowdfunding      816,889.51\n",
       "Name: raised_amount_usd, dtype: float64"
      ]
     },
     "execution_count": 55,
     "metadata": {},
     "output_type": "execute_result"
    }
   ],
   "source": [
    "master_frame1.groupby('funding_round_type')['raised_amount_usd'].mean().sort_values(ascending=False)"
   ]
  },
  {
   "cell_type": "code",
   "execution_count": 56,
   "metadata": {},
   "outputs": [
    {
     "data": {
      "text/plain": [
       "funding_round_type\n",
       "post_ipo_equity         3,300,000.00\n",
       "post_ipo_debt           3,140,525.00\n",
       "venture                 2,383,371.50\n",
       "undisclosed             1,680,511.00\n",
       "secondary_market        1,680,511.00\n",
       "private_equity          1,680,511.00\n",
       "non_equity_assistance   1,680,511.00\n",
       "equity_crowdfunding     1,680,511.00\n",
       "debt_financing          1,000,000.00\n",
       "angel                     598,325.00\n",
       "seed                      570,000.00\n",
       "convertible_note          500,000.00\n",
       "product_crowdfunding      203,282.00\n",
       "grant                     197,947.50\n",
       "Name: raised_amount_usd, dtype: float64"
      ]
     },
     "execution_count": 56,
     "metadata": {},
     "output_type": "execute_result"
    }
   ],
   "source": [
    "master_frame1.groupby('funding_round_type')['raised_amount_usd'].median().sort_values(ascending=False)"
   ]
  },
  {
   "cell_type": "markdown",
   "metadata": {},
   "source": [
    "## By removing the outliers none of our investment type's have means or medians close to 5-15 million usd, so for our data set outliers are important and we need to include them"
   ]
  },
  {
   "cell_type": "markdown",
   "metadata": {},
   "source": [
    "#### Good thing we made a copy of rounds2_df and deleted the outliers only on the copy, so lets use the rounds2_df to form our masterframe again"
   ]
  },
  {
   "cell_type": "code",
   "execution_count": 60,
   "metadata": {},
   "outputs": [],
   "source": [
    "master_frame2=pd.merge(rounds2_df,companies_df,how=\"left\",left_on=\"company_permalink\",right_on=\"permalink\")"
   ]
  },
  {
   "cell_type": "code",
   "execution_count": 61,
   "metadata": {},
   "outputs": [
    {
     "data": {
      "text/plain": [
       "(114949, 12)"
      ]
     },
     "execution_count": 61,
     "metadata": {},
     "output_type": "execute_result"
    }
   ],
   "source": [
    "master_frame2.shape"
   ]
  },
  {
   "cell_type": "code",
   "execution_count": 62,
   "metadata": {},
   "outputs": [
    {
     "data": {
      "text/plain": [
       "company_permalink          False\n",
       "funding_round_permalink    False\n",
       "funding_round_type         False\n",
       "raised_amount_usd          False\n",
       "permalink                   True\n",
       "name                        True\n",
       "category_list               True\n",
       "status                      True\n",
       "country_code                True\n",
       "state_code                  True\n",
       "region                      True\n",
       "city                        True\n",
       "dtype: bool"
      ]
     },
     "execution_count": 62,
     "metadata": {},
     "output_type": "execute_result"
    }
   ],
   "source": [
    "master_frame2.isnull().any()"
   ]
  },
  {
   "cell_type": "code",
   "execution_count": 63,
   "metadata": {},
   "outputs": [
    {
     "data": {
      "text/html": [
       "<div>\n",
       "<style scoped>\n",
       "    .dataframe tbody tr th:only-of-type {\n",
       "        vertical-align: middle;\n",
       "    }\n",
       "\n",
       "    .dataframe tbody tr th {\n",
       "        vertical-align: top;\n",
       "    }\n",
       "\n",
       "    .dataframe thead th {\n",
       "        text-align: right;\n",
       "    }\n",
       "</style>\n",
       "<table border=\"1\" class=\"dataframe\">\n",
       "  <thead>\n",
       "    <tr style=\"text-align: right;\">\n",
       "      <th></th>\n",
       "      <th>company_permalink</th>\n",
       "      <th>funding_round_permalink</th>\n",
       "      <th>funding_round_type</th>\n",
       "      <th>raised_amount_usd</th>\n",
       "      <th>permalink</th>\n",
       "      <th>name</th>\n",
       "      <th>category_list</th>\n",
       "      <th>status</th>\n",
       "      <th>country_code</th>\n",
       "      <th>state_code</th>\n",
       "      <th>region</th>\n",
       "      <th>city</th>\n",
       "    </tr>\n",
       "  </thead>\n",
       "  <tbody>\n",
       "    <tr>\n",
       "      <td>29597</td>\n",
       "      <td>/organization/e-cãbica</td>\n",
       "      <td>/funding-round/8491f74869e4fe8ba9c378394f8fbdea</td>\n",
       "      <td>seed</td>\n",
       "      <td>1,680,511.00</td>\n",
       "      <td>NaN</td>\n",
       "      <td>NaN</td>\n",
       "      <td>NaN</td>\n",
       "      <td>NaN</td>\n",
       "      <td>NaN</td>\n",
       "      <td>NaN</td>\n",
       "      <td>NaN</td>\n",
       "      <td>NaN</td>\n",
       "    </tr>\n",
       "    <tr>\n",
       "      <td>31863</td>\n",
       "      <td>/organization/energystone-games-çµç³æ¸¸æ</td>\n",
       "      <td>/funding-round/b89553f3d2279c5683ae93f45a21cfe0</td>\n",
       "      <td>seed</td>\n",
       "      <td>1,680,511.00</td>\n",
       "      <td>NaN</td>\n",
       "      <td>NaN</td>\n",
       "      <td>NaN</td>\n",
       "      <td>NaN</td>\n",
       "      <td>NaN</td>\n",
       "      <td>NaN</td>\n",
       "      <td>NaN</td>\n",
       "      <td>NaN</td>\n",
       "    </tr>\n",
       "    <tr>\n",
       "      <td>45176</td>\n",
       "      <td>/organization/huizuche-com-æ ç§ÿè½¦</td>\n",
       "      <td>/funding-round/8f8a32dbeeb0f831a78702f83af78a36</td>\n",
       "      <td>seed</td>\n",
       "      <td>1,680,511.00</td>\n",
       "      <td>NaN</td>\n",
       "      <td>NaN</td>\n",
       "      <td>NaN</td>\n",
       "      <td>NaN</td>\n",
       "      <td>NaN</td>\n",
       "      <td>NaN</td>\n",
       "      <td>NaN</td>\n",
       "      <td>NaN</td>\n",
       "    </tr>\n",
       "    <tr>\n",
       "      <td>58473</td>\n",
       "      <td>/organization/magnet-tech-ç£ç³ç§æ</td>\n",
       "      <td>/funding-round/8fc91fbb32bc95e97f151dd0cb4166bf</td>\n",
       "      <td>seed</td>\n",
       "      <td>1,625,585.00</td>\n",
       "      <td>NaN</td>\n",
       "      <td>NaN</td>\n",
       "      <td>NaN</td>\n",
       "      <td>NaN</td>\n",
       "      <td>NaN</td>\n",
       "      <td>NaN</td>\n",
       "      <td>NaN</td>\n",
       "      <td>NaN</td>\n",
       "    </tr>\n",
       "    <tr>\n",
       "      <td>101036</td>\n",
       "      <td>/organization/tipcat-interactive-æ²èÿä¿¡æ¯ç...</td>\n",
       "      <td>/funding-round/41005928a1439cb2d706a43cb661f60f</td>\n",
       "      <td>seed</td>\n",
       "      <td>1,680,511.00</td>\n",
       "      <td>NaN</td>\n",
       "      <td>NaN</td>\n",
       "      <td>NaN</td>\n",
       "      <td>NaN</td>\n",
       "      <td>NaN</td>\n",
       "      <td>NaN</td>\n",
       "      <td>NaN</td>\n",
       "      <td>NaN</td>\n",
       "    </tr>\n",
       "    <tr>\n",
       "      <td>109969</td>\n",
       "      <td>/organization/weiche-tech-åè½¦ç§æ</td>\n",
       "      <td>/funding-round/f74e457f838b81fa0b29649740f186d8</td>\n",
       "      <td>venture</td>\n",
       "      <td>1,680,511.00</td>\n",
       "      <td>NaN</td>\n",
       "      <td>NaN</td>\n",
       "      <td>NaN</td>\n",
       "      <td>NaN</td>\n",
       "      <td>NaN</td>\n",
       "      <td>NaN</td>\n",
       "      <td>NaN</td>\n",
       "      <td>NaN</td>\n",
       "    </tr>\n",
       "    <tr>\n",
       "      <td>113839</td>\n",
       "      <td>/organization/zengame-ç¦",
       "æ¸¸ç§æ</td>\n",
       "      <td>/funding-round/6ba28fb4f3eadf5a9c6c81bc5dde6cdf</td>\n",
       "      <td>seed</td>\n",
       "      <td>1,680,511.00</td>\n",
       "      <td>NaN</td>\n",
       "      <td>NaN</td>\n",
       "      <td>NaN</td>\n",
       "      <td>NaN</td>\n",
       "      <td>NaN</td>\n",
       "      <td>NaN</td>\n",
       "      <td>NaN</td>\n",
       "      <td>NaN</td>\n",
       "    </tr>\n",
       "  </tbody>\n",
       "</table>\n",
       "</div>"
      ],
      "text/plain": [
       "                                        company_permalink  \\\n",
       "29597                             /organization/e-cãbica   \n",
       "31863        /organization/energystone-games-çµç³æ¸¸æ   \n",
       "45176                /organization/huizuche-com-æ ç§ÿè½¦   \n",
       "58473              /organization/magnet-tech-ç£ç³ç§æ   \n",
       "101036  /organization/tipcat-interactive-æ²èÿä¿¡æ¯ç...   \n",
       "109969             /organization/weiche-tech-åè½¦ç§æ   \n",
       "113839                 /organization/zengame-ç¦\n",
       "æ¸¸ç§æ   \n",
       "\n",
       "                                funding_round_permalink funding_round_type  \\\n",
       "29597   /funding-round/8491f74869e4fe8ba9c378394f8fbdea               seed   \n",
       "31863   /funding-round/b89553f3d2279c5683ae93f45a21cfe0               seed   \n",
       "45176   /funding-round/8f8a32dbeeb0f831a78702f83af78a36               seed   \n",
       "58473   /funding-round/8fc91fbb32bc95e97f151dd0cb4166bf               seed   \n",
       "101036  /funding-round/41005928a1439cb2d706a43cb661f60f               seed   \n",
       "109969  /funding-round/f74e457f838b81fa0b29649740f186d8            venture   \n",
       "113839  /funding-round/6ba28fb4f3eadf5a9c6c81bc5dde6cdf               seed   \n",
       "\n",
       "        raised_amount_usd permalink name category_list status country_code  \\\n",
       "29597        1,680,511.00       NaN  NaN           NaN    NaN          NaN   \n",
       "31863        1,680,511.00       NaN  NaN           NaN    NaN          NaN   \n",
       "45176        1,680,511.00       NaN  NaN           NaN    NaN          NaN   \n",
       "58473        1,625,585.00       NaN  NaN           NaN    NaN          NaN   \n",
       "101036       1,680,511.00       NaN  NaN           NaN    NaN          NaN   \n",
       "109969       1,680,511.00       NaN  NaN           NaN    NaN          NaN   \n",
       "113839       1,680,511.00       NaN  NaN           NaN    NaN          NaN   \n",
       "\n",
       "       state_code region city  \n",
       "29597         NaN    NaN  NaN  \n",
       "31863         NaN    NaN  NaN  \n",
       "45176         NaN    NaN  NaN  \n",
       "58473         NaN    NaN  NaN  \n",
       "101036        NaN    NaN  NaN  \n",
       "109969        NaN    NaN  NaN  \n",
       "113839        NaN    NaN  NaN  "
      ]
     },
     "execution_count": 63,
     "metadata": {},
     "output_type": "execute_result"
    }
   ],
   "source": [
    "master_frame2.loc[master_frame2['permalink'].isnull()]"
   ]
  },
  {
   "cell_type": "code",
   "execution_count": 64,
   "metadata": {},
   "outputs": [
    {
     "data": {
      "text/plain": [
       "company_permalink              0\n",
       "funding_round_permalink        0\n",
       "funding_round_type             0\n",
       "raised_amount_usd              0\n",
       "permalink                      7\n",
       "name                           8\n",
       "category_list               3414\n",
       "status                         7\n",
       "country_code                8678\n",
       "state_code                 10946\n",
       "region                     10167\n",
       "city                       10164\n",
       "dtype: int64"
      ]
     },
     "execution_count": 64,
     "metadata": {},
     "output_type": "execute_result"
    }
   ],
   "source": [
    "master_frame2.isnull().sum()"
   ]
  },
  {
   "cell_type": "code",
   "execution_count": 66,
   "metadata": {},
   "outputs": [
    {
     "data": {
      "text/plain": [
       "company_permalink         0.00\n",
       "funding_round_permalink   0.00\n",
       "funding_round_type        0.00\n",
       "raised_amount_usd         0.00\n",
       "permalink                 0.01\n",
       "name                      0.01\n",
       "category_list             2.97\n",
       "status                    0.01\n",
       "country_code              7.55\n",
       "state_code                9.52\n",
       "region                    8.84\n",
       "city                      8.84\n",
       "dtype: float64"
      ]
     },
     "execution_count": 66,
     "metadata": {},
     "output_type": "execute_result"
    }
   ],
   "source": [
    "master_frame2.isnull().sum()/len(master_frame2)*100"
   ]
  },
  {
   "cell_type": "code",
   "execution_count": 67,
   "metadata": {},
   "outputs": [
    {
     "data": {
      "text/plain": [
       "funding_round_type\n",
       "venture                 598,975,787,802.00\n",
       "private_equity          142,511,934,444.00\n",
       "debt_financing          114,242,789,729.00\n",
       "post_ipo_equity          51,627,411,261.00\n",
       "undisclosed              36,012,323,662.00\n",
       "seed                     28,620,680,812.00\n",
       "post_ipo_debt            25,643,094,917.00\n",
       "grant                     9,262,142,981.00\n",
       "angel                     6,733,005,697.00\n",
       "equity_crowdfunding       4,070,872,982.00\n",
       "convertible_note          2,724,914,642.00\n",
       "secondary_market          2,498,722,118.00\n",
       "product_crowdfunding        566,500,857.00\n",
       "non_equity_assistance       228,318,121.00\n",
       "Name: raised_amount_usd, dtype: float64"
      ]
     },
     "execution_count": 67,
     "metadata": {},
     "output_type": "execute_result"
    }
   ],
   "source": [
    "master_frame2.groupby('funding_round_type')['raised_amount_usd'].sum().sort_values(ascending=False)"
   ]
  },
  {
   "cell_type": "code",
   "execution_count": 68,
   "metadata": {},
   "outputs": [
    {
     "data": {
      "text/plain": [
       "funding_round_type\n",
       "post_ipo_debt           168,704,571.82\n",
       "post_ipo_equity          80,920,707.31\n",
       "private_equity           62,368,461.46\n",
       "secondary_market         26,302,338.08\n",
       "debt_financing           16,568,932.52\n",
       "venture                  10,793,523.40\n",
       "undisclosed               7,353,956.23\n",
       "grant                     4,210,064.99\n",
       "convertible_note          1,499,677.84\n",
       "product_crowdfunding      1,381,709.41\n",
       "equity_crowdfunding       1,249,884.24\n",
       "non_equity_assistance     1,195,382.83\n",
       "angel                     1,104,858.17\n",
       "seed                        937,645.16\n",
       "Name: raised_amount_usd, dtype: float64"
      ]
     },
     "execution_count": 68,
     "metadata": {},
     "output_type": "execute_result"
    }
   ],
   "source": [
    "master_frame2.groupby('funding_round_type')['raised_amount_usd'].mean().sort_values(ascending=False)"
   ]
  },
  {
   "cell_type": "code",
   "execution_count": 69,
   "metadata": {},
   "outputs": [
    {
     "data": {
      "text/plain": [
       "funding_round_type\n",
       "post_ipo_debt           19,950,000.00\n",
       "private_equity          12,122,011.00\n",
       "post_ipo_equity         12,000,000.00\n",
       "venture                  4,000,000.00\n",
       "undisclosed              1,680,511.00\n",
       "secondary_market         1,680,511.00\n",
       "non_equity_assistance    1,680,511.00\n",
       "equity_crowdfunding      1,680,511.00\n",
       "debt_financing           1,200,000.00\n",
       "angel                      600,000.00\n",
       "seed                       575,000.00\n",
       "convertible_note           500,000.00\n",
       "grant                      230,000.00\n",
       "product_crowdfunding       224,143.00\n",
       "Name: raised_amount_usd, dtype: float64"
      ]
     },
     "execution_count": 69,
     "metadata": {},
     "output_type": "execute_result"
    }
   ],
   "source": [
    "master_frame2.groupby('funding_round_type')['raised_amount_usd'].median().sort_values(ascending=False)"
   ]
  },
  {
   "cell_type": "code",
   "execution_count": 70,
   "metadata": {},
   "outputs": [
    {
     "data": {
      "text/plain": [
       "array(['venture', 'seed', 'undisclosed', 'equity_crowdfunding',\n",
       "       'convertible_note', 'private_equity', 'debt_financing', 'angel',\n",
       "       'grant', 'secondary_market', 'post_ipo_equity', 'post_ipo_debt',\n",
       "       'product_crowdfunding', 'non_equity_assistance'], dtype=object)"
      ]
     },
     "execution_count": 70,
     "metadata": {},
     "output_type": "execute_result"
    }
   ],
   "source": [
    "master_frame2['funding_round_type'].unique()"
   ]
  },
  {
   "cell_type": "code",
   "execution_count": 72,
   "metadata": {
    "scrolled": true
   },
   "outputs": [
    {
     "data": {
      "text/plain": [
       "count           55,494.00\n",
       "mean        10,793,523.40\n",
       "std         82,205,753.31\n",
       "min                  0.00\n",
       "25%          1,680,511.00\n",
       "50%          4,000,000.00\n",
       "75%         10,500,000.00\n",
       "max     17,600,000,000.00\n",
       "Name: raised_amount_usd, dtype: float64"
      ]
     },
     "execution_count": 72,
     "metadata": {},
     "output_type": "execute_result"
    }
   ],
   "source": [
    "master_frame2['raised_amount_usd'].loc[master_frame2['funding_round_type']=='venture'].sort_values(ascending=False).describe()"
   ]
  },
  {
   "cell_type": "code",
   "execution_count": 73,
   "metadata": {},
   "outputs": [],
   "source": [
    "venture_df=master_frame2.loc[master_frame2['funding_round_type']=='venture']"
   ]
  },
  {
   "cell_type": "code",
   "execution_count": 84,
   "metadata": {},
   "outputs": [],
   "source": [
    "master_frame = master_frame2[master_frame2['funding_round_type'].isin(['venture', 'angel', 'seed', 'private_equity'])]"
   ]
  },
  {
   "cell_type": "code",
   "execution_count": 87,
   "metadata": {},
   "outputs": [
    {
     "data": {
      "text/html": [
       "<div>\n",
       "<style scoped>\n",
       "    .dataframe tbody tr th:only-of-type {\n",
       "        vertical-align: middle;\n",
       "    }\n",
       "\n",
       "    .dataframe tbody tr th {\n",
       "        vertical-align: top;\n",
       "    }\n",
       "\n",
       "    .dataframe thead th {\n",
       "        text-align: right;\n",
       "    }\n",
       "</style>\n",
       "<table border=\"1\" class=\"dataframe\">\n",
       "  <thead>\n",
       "    <tr style=\"text-align: right;\">\n",
       "      <th></th>\n",
       "      <th>company_permalink</th>\n",
       "      <th>funding_round_permalink</th>\n",
       "      <th>funding_round_type</th>\n",
       "      <th>raised_amount_usd</th>\n",
       "      <th>permalink</th>\n",
       "      <th>name</th>\n",
       "      <th>category_list</th>\n",
       "      <th>status</th>\n",
       "      <th>country_code</th>\n",
       "      <th>state_code</th>\n",
       "      <th>region</th>\n",
       "      <th>city</th>\n",
       "    </tr>\n",
       "  </thead>\n",
       "  <tbody>\n",
       "    <tr>\n",
       "      <td>0</td>\n",
       "      <td>/organization/-fame</td>\n",
       "      <td>/funding-round/9a01d05418af9f794eebff7ace91f638</td>\n",
       "      <td>venture</td>\n",
       "      <td>10,000,000.00</td>\n",
       "      <td>/organization/-fame</td>\n",
       "      <td>#fame</td>\n",
       "      <td>Media</td>\n",
       "      <td>operating</td>\n",
       "      <td>IND</td>\n",
       "      <td>16</td>\n",
       "      <td>Mumbai</td>\n",
       "      <td>Mumbai</td>\n",
       "    </tr>\n",
       "    <tr>\n",
       "      <td>1</td>\n",
       "      <td>/organization/-qounter</td>\n",
       "      <td>/funding-round/22dacff496eb7acb2b901dec1dfe5633</td>\n",
       "      <td>venture</td>\n",
       "      <td>1,680,511.00</td>\n",
       "      <td>/organization/-qounter</td>\n",
       "      <td>:Qounter</td>\n",
       "      <td>Application Platforms|Real Time|Social Network...</td>\n",
       "      <td>operating</td>\n",
       "      <td>USA</td>\n",
       "      <td>DE</td>\n",
       "      <td>DE - Other</td>\n",
       "      <td>Delaware City</td>\n",
       "    </tr>\n",
       "    <tr>\n",
       "      <td>2</td>\n",
       "      <td>/organization/-qounter</td>\n",
       "      <td>/funding-round/b44fbb94153f6cdef13083530bb48030</td>\n",
       "      <td>seed</td>\n",
       "      <td>700,000.00</td>\n",
       "      <td>/organization/-qounter</td>\n",
       "      <td>:Qounter</td>\n",
       "      <td>Application Platforms|Real Time|Social Network...</td>\n",
       "      <td>operating</td>\n",
       "      <td>USA</td>\n",
       "      <td>DE</td>\n",
       "      <td>DE - Other</td>\n",
       "      <td>Delaware City</td>\n",
       "    </tr>\n",
       "    <tr>\n",
       "      <td>3</td>\n",
       "      <td>/organization/-the-one-of-them-inc-</td>\n",
       "      <td>/funding-round/650b8f704416801069bb178a1418776b</td>\n",
       "      <td>venture</td>\n",
       "      <td>3,406,878.00</td>\n",
       "      <td>/organization/-the-one-of-them-inc-</td>\n",
       "      <td>(THE) ONE of THEM,Inc.</td>\n",
       "      <td>Apps|Games|Mobile</td>\n",
       "      <td>operating</td>\n",
       "      <td>NaN</td>\n",
       "      <td>NaN</td>\n",
       "      <td>NaN</td>\n",
       "      <td>NaN</td>\n",
       "    </tr>\n",
       "    <tr>\n",
       "      <td>4</td>\n",
       "      <td>/organization/0-6-com</td>\n",
       "      <td>/funding-round/5727accaeaa57461bd22a9bdd945382d</td>\n",
       "      <td>venture</td>\n",
       "      <td>2,000,000.00</td>\n",
       "      <td>/organization/0-6-com</td>\n",
       "      <td>0-6.com</td>\n",
       "      <td>Curated Web</td>\n",
       "      <td>operating</td>\n",
       "      <td>CHN</td>\n",
       "      <td>22</td>\n",
       "      <td>Beijing</td>\n",
       "      <td>Beijing</td>\n",
       "    </tr>\n",
       "    <tr>\n",
       "      <td>...</td>\n",
       "      <td>...</td>\n",
       "      <td>...</td>\n",
       "      <td>...</td>\n",
       "      <td>...</td>\n",
       "      <td>...</td>\n",
       "      <td>...</td>\n",
       "      <td>...</td>\n",
       "      <td>...</td>\n",
       "      <td>...</td>\n",
       "      <td>...</td>\n",
       "      <td>...</td>\n",
       "      <td>...</td>\n",
       "    </tr>\n",
       "    <tr>\n",
       "      <td>114942</td>\n",
       "      <td>/organization/zzzzapp-com</td>\n",
       "      <td>/funding-round/22ef2fafb4d20ac3aa4b86143dbf6c8e</td>\n",
       "      <td>seed</td>\n",
       "      <td>7,000.00</td>\n",
       "      <td>/organization/zzzzapp-com</td>\n",
       "      <td>Zzzzapp Wireless ltd.</td>\n",
       "      <td>Advertising|Mobile|Web Development|Wireless</td>\n",
       "      <td>operating</td>\n",
       "      <td>HRV</td>\n",
       "      <td>15</td>\n",
       "      <td>Split</td>\n",
       "      <td>Split</td>\n",
       "    </tr>\n",
       "    <tr>\n",
       "      <td>114943</td>\n",
       "      <td>/organization/zzzzapp-com</td>\n",
       "      <td>/funding-round/6ba41360588bc6e3f77e9b50a0ebfafa</td>\n",
       "      <td>seed</td>\n",
       "      <td>33,149.00</td>\n",
       "      <td>/organization/zzzzapp-com</td>\n",
       "      <td>Zzzzapp Wireless ltd.</td>\n",
       "      <td>Advertising|Mobile|Web Development|Wireless</td>\n",
       "      <td>operating</td>\n",
       "      <td>HRV</td>\n",
       "      <td>15</td>\n",
       "      <td>Split</td>\n",
       "      <td>Split</td>\n",
       "    </tr>\n",
       "    <tr>\n",
       "      <td>114945</td>\n",
       "      <td>/organization/zzzzapp-com</td>\n",
       "      <td>/funding-round/ff1aa06ed5da186c84f101549035d4ae</td>\n",
       "      <td>seed</td>\n",
       "      <td>32,842.00</td>\n",
       "      <td>/organization/zzzzapp-com</td>\n",
       "      <td>Zzzzapp Wireless ltd.</td>\n",
       "      <td>Advertising|Mobile|Web Development|Wireless</td>\n",
       "      <td>operating</td>\n",
       "      <td>HRV</td>\n",
       "      <td>15</td>\n",
       "      <td>Split</td>\n",
       "      <td>Split</td>\n",
       "    </tr>\n",
       "    <tr>\n",
       "      <td>114946</td>\n",
       "      <td>/organization/ãeron</td>\n",
       "      <td>/funding-round/59f4dce44723b794f21ded3daed6e4fe</td>\n",
       "      <td>venture</td>\n",
       "      <td>1,680,511.00</td>\n",
       "      <td>/organization/ãeron</td>\n",
       "      <td>ÃERON</td>\n",
       "      <td>NaN</td>\n",
       "      <td>operating</td>\n",
       "      <td>NaN</td>\n",
       "      <td>NaN</td>\n",
       "      <td>NaN</td>\n",
       "      <td>NaN</td>\n",
       "    </tr>\n",
       "    <tr>\n",
       "      <td>114947</td>\n",
       "      <td>/organization/ãasys-2</td>\n",
       "      <td>/funding-round/35f09d0794651719b02bbfd859ba9ff5</td>\n",
       "      <td>seed</td>\n",
       "      <td>18,192.00</td>\n",
       "      <td>/organization/ãasys-2</td>\n",
       "      <td>Ãasys</td>\n",
       "      <td>Consumer Electronics|Internet of Things|Teleco...</td>\n",
       "      <td>operating</td>\n",
       "      <td>USA</td>\n",
       "      <td>CA</td>\n",
       "      <td>SF Bay Area</td>\n",
       "      <td>San Francisco</td>\n",
       "    </tr>\n",
       "  </tbody>\n",
       "</table>\n",
       "<p>94397 rows × 12 columns</p>\n",
       "</div>"
      ],
      "text/plain": [
       "                          company_permalink  \\\n",
       "0                       /organization/-fame   \n",
       "1                    /organization/-qounter   \n",
       "2                    /organization/-qounter   \n",
       "3       /organization/-the-one-of-them-inc-   \n",
       "4                     /organization/0-6-com   \n",
       "...                                     ...   \n",
       "114942            /organization/zzzzapp-com   \n",
       "114943            /organization/zzzzapp-com   \n",
       "114945            /organization/zzzzapp-com   \n",
       "114946                 /organization/ãeron   \n",
       "114947               /organization/ãasys-2   \n",
       "\n",
       "                                funding_round_permalink funding_round_type  \\\n",
       "0       /funding-round/9a01d05418af9f794eebff7ace91f638            venture   \n",
       "1       /funding-round/22dacff496eb7acb2b901dec1dfe5633            venture   \n",
       "2       /funding-round/b44fbb94153f6cdef13083530bb48030               seed   \n",
       "3       /funding-round/650b8f704416801069bb178a1418776b            venture   \n",
       "4       /funding-round/5727accaeaa57461bd22a9bdd945382d            venture   \n",
       "...                                                 ...                ...   \n",
       "114942  /funding-round/22ef2fafb4d20ac3aa4b86143dbf6c8e               seed   \n",
       "114943  /funding-round/6ba41360588bc6e3f77e9b50a0ebfafa               seed   \n",
       "114945  /funding-round/ff1aa06ed5da186c84f101549035d4ae               seed   \n",
       "114946  /funding-round/59f4dce44723b794f21ded3daed6e4fe            venture   \n",
       "114947  /funding-round/35f09d0794651719b02bbfd859ba9ff5               seed   \n",
       "\n",
       "        raised_amount_usd                            permalink  \\\n",
       "0           10,000,000.00                  /organization/-fame   \n",
       "1            1,680,511.00               /organization/-qounter   \n",
       "2              700,000.00               /organization/-qounter   \n",
       "3            3,406,878.00  /organization/-the-one-of-them-inc-   \n",
       "4            2,000,000.00                /organization/0-6-com   \n",
       "...                   ...                                  ...   \n",
       "114942           7,000.00            /organization/zzzzapp-com   \n",
       "114943          33,149.00            /organization/zzzzapp-com   \n",
       "114945          32,842.00            /organization/zzzzapp-com   \n",
       "114946       1,680,511.00                 /organization/ãeron   \n",
       "114947          18,192.00               /organization/ãasys-2   \n",
       "\n",
       "                          name  \\\n",
       "0                        #fame   \n",
       "1                     :Qounter   \n",
       "2                     :Qounter   \n",
       "3       (THE) ONE of THEM,Inc.   \n",
       "4                      0-6.com   \n",
       "...                        ...   \n",
       "114942   Zzzzapp Wireless ltd.   \n",
       "114943   Zzzzapp Wireless ltd.   \n",
       "114945   Zzzzapp Wireless ltd.   \n",
       "114946                  ÃERON   \n",
       "114947                  Ãasys   \n",
       "\n",
       "                                            category_list     status  \\\n",
       "0                                                   Media  operating   \n",
       "1       Application Platforms|Real Time|Social Network...  operating   \n",
       "2       Application Platforms|Real Time|Social Network...  operating   \n",
       "3                                       Apps|Games|Mobile  operating   \n",
       "4                                             Curated Web  operating   \n",
       "...                                                   ...        ...   \n",
       "114942        Advertising|Mobile|Web Development|Wireless  operating   \n",
       "114943        Advertising|Mobile|Web Development|Wireless  operating   \n",
       "114945        Advertising|Mobile|Web Development|Wireless  operating   \n",
       "114946                                                NaN  operating   \n",
       "114947  Consumer Electronics|Internet of Things|Teleco...  operating   \n",
       "\n",
       "       country_code state_code       region           city  \n",
       "0               IND         16       Mumbai         Mumbai  \n",
       "1               USA         DE   DE - Other  Delaware City  \n",
       "2               USA         DE   DE - Other  Delaware City  \n",
       "3               NaN        NaN          NaN            NaN  \n",
       "4               CHN         22      Beijing        Beijing  \n",
       "...             ...        ...          ...            ...  \n",
       "114942          HRV         15        Split          Split  \n",
       "114943          HRV         15        Split          Split  \n",
       "114945          HRV         15        Split          Split  \n",
       "114946          NaN        NaN          NaN            NaN  \n",
       "114947          USA         CA  SF Bay Area  San Francisco  \n",
       "\n",
       "[94397 rows x 12 columns]"
      ]
     },
     "execution_count": 87,
     "metadata": {},
     "output_type": "execute_result"
    }
   ],
   "source": [
    "master_frame"
   ]
  },
  {
   "cell_type": "code",
   "execution_count": 85,
   "metadata": {},
   "outputs": [
    {
     "data": {
      "image/png": "[encoded data removed]",
      "text/plain": [
       "<Figure size 720x360 with 2 Axes>"
      ]
     },
     "metadata": {
      "needs_background": "light"
     },
     "output_type": "display_data"
    }
   ],
   "source": [
    "plt.figure(figsize=(10, 5))\n",
    "plt.subplot(1,2,1)\n",
    "sns.countplot(x=\"funding_round_type\", data=master_frame)\n",
    "plt.title(\"Count of Investments\")\n",
    "plt.subplot(1, 2, 2)\n",
    "sns.barplot(y='raised_amount_usd', x=\"funding_round_type\", data=master_frame, estimator=np.mean)\n",
    "plt.title(\"Mean invested amount\")\n",
    "plt.show()\n",
    "##1 unit is 10M usd "
   ]
  },
  {
   "cell_type": "code",
   "execution_count": 194,
   "metadata": {},
   "outputs": [
    {
     "data": {
      "image/png": "[encoded data removed]",
      "text/plain": [
       "<Figure size 720x576 with 1 Axes>"
      ]
     },
     "metadata": {
      "needs_background": "light"
     },
     "output_type": "display_data"
    }
   ],
   "source": [
    "plt.figure(figsize=(10, 8))\n",
    "sns.barplot(x='funding_round_type', y='raised_amount_usd', data=master_frame)\n",
    "plt.axhline(y=5000000, linewidth=2, color = 'r')\n",
    "plt.axhline(y=15000000, linewidth=2, color = 'r')\n",
    "plt.show()\n",
    "#1 unit is 10M usd "
   ]
  },
  {
   "cell_type": "markdown",
   "metadata": {},
   "source": [
    "### Venture clearly the best option for us"
   ]
  },
  {
   "cell_type": "code",
   "execution_count": 76,
   "metadata": {},
   "outputs": [],
   "source": [
    "top9=venture_df.groupby('country_code')['raised_amount_usd'].sum().sort_values(ascending=False).head(9)"
   ]
  },
  {
   "cell_type": "code",
   "execution_count": 77,
   "metadata": {},
   "outputs": [],
   "source": [
    "top9=top9.to_frame()"
   ]
  },
  {
   "cell_type": "code",
   "execution_count": 78,
   "metadata": {
    "scrolled": true
   },
   "outputs": [
    {
     "data": {
      "text/html": [
       "<div>\n",
       "<style scoped>\n",
       "    .dataframe tbody tr th:only-of-type {\n",
       "        vertical-align: middle;\n",
       "    }\n",
       "\n",
       "    .dataframe tbody tr th {\n",
       "        vertical-align: top;\n",
       "    }\n",
       "\n",
       "    .dataframe thead th {\n",
       "        text-align: right;\n",
       "    }\n",
       "</style>\n",
       "<table border=\"1\" class=\"dataframe\">\n",
       "  <thead>\n",
       "    <tr style=\"text-align: right;\">\n",
       "      <th></th>\n",
       "      <th>raised_amount_usd</th>\n",
       "    </tr>\n",
       "    <tr>\n",
       "      <th>country_code</th>\n",
       "      <th></th>\n",
       "    </tr>\n",
       "  </thead>\n",
       "  <tbody>\n",
       "    <tr>\n",
       "      <td>USA</td>\n",
       "      <td>426,263,423,859.00</td>\n",
       "    </tr>\n",
       "    <tr>\n",
       "      <td>CHN</td>\n",
       "      <td>40,714,326,026.00</td>\n",
       "    </tr>\n",
       "    <tr>\n",
       "      <td>GBR</td>\n",
       "      <td>20,662,394,144.00</td>\n",
       "    </tr>\n",
       "    <tr>\n",
       "      <td>IND</td>\n",
       "      <td>14,674,184,566.00</td>\n",
       "    </tr>\n",
       "    <tr>\n",
       "      <td>CAN</td>\n",
       "      <td>9,734,578,307.00</td>\n",
       "    </tr>\n",
       "    <tr>\n",
       "      <td>FRA</td>\n",
       "      <td>7,373,811,480.00</td>\n",
       "    </tr>\n",
       "    <tr>\n",
       "      <td>ISR</td>\n",
       "      <td>7,099,092,833.00</td>\n",
       "    </tr>\n",
       "    <tr>\n",
       "      <td>DEU</td>\n",
       "      <td>6,730,116,330.00</td>\n",
       "    </tr>\n",
       "    <tr>\n",
       "      <td>JPN</td>\n",
       "      <td>3,437,619,095.00</td>\n",
       "    </tr>\n",
       "  </tbody>\n",
       "</table>\n",
       "</div>"
      ],
      "text/plain": [
       "              raised_amount_usd\n",
       "country_code                   \n",
       "USA          426,263,423,859.00\n",
       "CHN           40,714,326,026.00\n",
       "GBR           20,662,394,144.00\n",
       "IND           14,674,184,566.00\n",
       "CAN            9,734,578,307.00\n",
       "FRA            7,373,811,480.00\n",
       "ISR            7,099,092,833.00\n",
       "DEU            6,730,116,330.00\n",
       "JPN            3,437,619,095.00"
      ]
     },
     "execution_count": 78,
     "metadata": {},
     "output_type": "execute_result"
    }
   ],
   "source": [
    "top9"
   ]
  },
  {
   "cell_type": "markdown",
   "metadata": {},
   "source": [
    "## Since China isn't an English speaking Country we chose USA, GBR and IND i.e. United States,United Kingdom and India"
   ]
  },
  {
   "cell_type": "code",
   "execution_count": 86,
   "metadata": {},
   "outputs": [
    {
     "name": "stdout",
     "output_type": "stream",
     "text": [
      "<class 'pandas.core.frame.DataFrame'>\n",
      "RangeIndex: 688 entries, 0 to 687\n",
      "Data columns (total 10 columns):\n",
      "category_list                              687 non-null object\n",
      "Automotive & Sports                        688 non-null int64\n",
      "Blanks                                     688 non-null int64\n",
      "Cleantech / Semiconductors                 688 non-null int64\n",
      "Entertainment                              688 non-null int64\n",
      "Health                                     688 non-null int64\n",
      "Manufacturing                              688 non-null int64\n",
      "News, Search and Messaging                 688 non-null int64\n",
      "Others                                     688 non-null int64\n",
      "Social, Finance, Analytics, Advertising    688 non-null int64\n",
      "dtypes: int64(9), object(1)\n",
      "memory usage: 53.9+ KB\n"
     ]
    }
   ],
   "source": [
    "mapping_df.info()"
   ]
  },
  {
   "cell_type": "code",
   "execution_count": 120,
   "metadata": {},
   "outputs": [
    {
     "data": {
      "text/html": [
       "<div>\n",
       "<style scoped>\n",
       "    .dataframe tbody tr th:only-of-type {\n",
       "        vertical-align: middle;\n",
       "    }\n",
       "\n",
       "    .dataframe tbody tr th {\n",
       "        vertical-align: top;\n",
       "    }\n",
       "\n",
       "    .dataframe thead th {\n",
       "        text-align: right;\n",
       "    }\n",
       "</style>\n",
       "<table border=\"1\" class=\"dataframe\">\n",
       "  <thead>\n",
       "    <tr style=\"text-align: right;\">\n",
       "      <th></th>\n",
       "      <th>category_list</th>\n",
       "      <th>variable</th>\n",
       "      <th>value</th>\n",
       "    </tr>\n",
       "  </thead>\n",
       "  <tbody>\n",
       "    <tr>\n",
       "      <td>8</td>\n",
       "      <td>Adventure Travel</td>\n",
       "      <td>Automotive &amp; Sports</td>\n",
       "      <td>1</td>\n",
       "    </tr>\n",
       "    <tr>\n",
       "      <td>14</td>\n",
       "      <td>Aerospace</td>\n",
       "      <td>Automotive &amp; Sports</td>\n",
       "      <td>1</td>\n",
       "    </tr>\n",
       "    <tr>\n",
       "      <td>45</td>\n",
       "      <td>Auto</td>\n",
       "      <td>Automotive &amp; Sports</td>\n",
       "      <td>1</td>\n",
       "    </tr>\n",
       "    <tr>\n",
       "      <td>46</td>\n",
       "      <td>Automated Kiosk</td>\n",
       "      <td>Automotive &amp; Sports</td>\n",
       "      <td>1</td>\n",
       "    </tr>\n",
       "    <tr>\n",
       "      <td>47</td>\n",
       "      <td>Automotive</td>\n",
       "      <td>Automotive &amp; Sports</td>\n",
       "      <td>1</td>\n",
       "    </tr>\n",
       "    <tr>\n",
       "      <td>57</td>\n",
       "      <td>Bicycles</td>\n",
       "      <td>Automotive &amp; Sports</td>\n",
       "      <td>1</td>\n",
       "    </tr>\n",
       "    <tr>\n",
       "      <td>69</td>\n",
       "      <td>Boating Industry</td>\n",
       "      <td>Automotive &amp; Sports</td>\n",
       "      <td>1</td>\n",
       "    </tr>\n",
       "    <tr>\n",
       "      <td>87</td>\n",
       "      <td>CAD</td>\n",
       "      <td>Automotive &amp; Sports</td>\n",
       "      <td>1</td>\n",
       "    </tr>\n",
       "    <tr>\n",
       "      <td>93</td>\n",
       "      <td>Cars</td>\n",
       "      <td>Automotive &amp; Sports</td>\n",
       "      <td>1</td>\n",
       "    </tr>\n",
       "    <tr>\n",
       "      <td>188</td>\n",
       "      <td>Design</td>\n",
       "      <td>Automotive &amp; Sports</td>\n",
       "      <td>1</td>\n",
       "    </tr>\n",
       "  </tbody>\n",
       "</table>\n",
       "</div>"
      ],
      "text/plain": [
       "        category_list             variable  value\n",
       "8    Adventure Travel  Automotive & Sports      1\n",
       "14          Aerospace  Automotive & Sports      1\n",
       "45               Auto  Automotive & Sports      1\n",
       "46    Automated Kiosk  Automotive & Sports      1\n",
       "47         Automotive  Automotive & Sports      1\n",
       "57           Bicycles  Automotive & Sports      1\n",
       "69   Boating Industry  Automotive & Sports      1\n",
       "87                CAD  Automotive & Sports      1\n",
       "93               Cars  Automotive & Sports      1\n",
       "188            Design  Automotive & Sports      1"
      ]
     },
     "execution_count": 120,
     "metadata": {},
     "output_type": "execute_result"
    }
   ],
   "source": [
    "mapping_df = pd.melt(mapping_df,id_vars=[\"category_list\"])\n",
    "mapping_df = mapping_df[mapping_df.value != 0]\n",
    "mapping_df.head(10)\n"
   ]
  },
  {
   "cell_type": "markdown",
   "metadata": {},
   "source": [
    "### Changing Column names so we can do the merge operation and also maintain consistency"
   ]
  },
  {
   "cell_type": "code",
   "execution_count": 122,
   "metadata": {},
   "outputs": [],
   "source": [
    "mapping_df = mapping_df.drop('value', axis=1)\n",
    "mapping_df.rename(columns={'variable':'main_sector','category_list':'primary_sector'}, inplace=True)\n",
    "mapping_df['primary_sector'] = mapping_df['primary_sector'].str.lower()"
   ]
  },
  {
   "cell_type": "markdown",
   "metadata": {},
   "source": [
    "#### We need to only consider the first value in category list values that have multiple '|' separated values"
   ]
  },
  {
   "cell_type": "code",
   "execution_count": 80,
   "metadata": {},
   "outputs": [
    {
     "data": {
      "text/plain": [
       "array(['Media', 'Application Platforms|Real Time|Social Network Media',\n",
       "       'Apps|Games|Mobile', ...,\n",
       "       'Analytics|Android|Developer APIs|Education|Gamification|iOS',\n",
       "       'Advertising|Mobile|Web Development|Wireless',\n",
       "       'Consumer Electronics|Internet of Things|Telecommunications'],\n",
       "      dtype=object)"
      ]
     },
     "execution_count": 80,
     "metadata": {},
     "output_type": "execute_result"
    }
   ],
   "source": [
    "master_frame['category_list'].unique()"
   ]
  },
  {
   "cell_type": "code",
   "execution_count": 81,
   "metadata": {},
   "outputs": [
    {
     "data": {
      "text/plain": [
       "'Application Platforms'"
      ]
     },
     "execution_count": 81,
     "metadata": {},
     "output_type": "execute_result"
    }
   ],
   "source": [
    "'Application Platforms|Real Time|Social Network Media'.split('|')[0]"
   ]
  },
  {
   "cell_type": "code",
   "execution_count": 88,
   "metadata": {},
   "outputs": [
    {
     "name": "stderr",
     "output_type": "stream",
     "text": [
      "C:\\Users\\dk\\Anaconda3\\lib\\site-packages\\ipykernel_launcher.py:1: SettingWithCopyWarning: \n",
      "A value is trying to be set on a copy of a slice from a DataFrame.\n",
      "Try using .loc[row_indexer,col_indexer] = value instead\n",
      "\n",
      "See the caveats in the documentation: http://pandas.pydata.org/pandas-docs/stable/user_guide/indexing.html#returning-a-view-versus-a-copy\n",
      "  \"\"\"Entry point for launching an IPython kernel.\n"
     ]
    }
   ],
   "source": [
    "master_frame['primary_sector']=master_frame['category_list'].apply(lambda x:str(x).lower().split('|')[0])"
   ]
  },
  {
   "cell_type": "code",
   "execution_count": 89,
   "metadata": {},
   "outputs": [
    {
     "data": {
      "text/plain": [
       "0                         media\n",
       "1         application platforms\n",
       "2         application platforms\n",
       "3                          apps\n",
       "4                   curated web\n",
       "                  ...          \n",
       "114942              advertising\n",
       "114943              advertising\n",
       "114945              advertising\n",
       "114946                      nan\n",
       "114947     consumer electronics\n",
       "Name: primary_sector, Length: 94397, dtype: object"
      ]
     },
     "execution_count": 89,
     "metadata": {},
     "output_type": "execute_result"
    }
   ],
   "source": [
    "master_frame['primary_sector']"
   ]
  },
  {
   "cell_type": "code",
   "execution_count": 171,
   "metadata": {},
   "outputs": [
    {
     "data": {
      "text/plain": [
       "Index(['USA', 'CHN', 'GBR', 'IND', 'CAN', 'FRA', 'ISR', 'DEU', 'JPN'], dtype='object', name='country_code')"
      ]
     },
     "execution_count": 171,
     "metadata": {},
     "output_type": "execute_result"
    }
   ],
   "source": [
    "top9.index"
   ]
  },
  {
   "cell_type": "code",
   "execution_count": 196,
   "metadata": {},
   "outputs": [
    {
     "data": {
      "text/html": [
       "<div>\n",
       "<style scoped>\n",
       "    .dataframe tbody tr th:only-of-type {\n",
       "        vertical-align: middle;\n",
       "    }\n",
       "\n",
       "    .dataframe tbody tr th {\n",
       "        vertical-align: top;\n",
       "    }\n",
       "\n",
       "    .dataframe thead th {\n",
       "        text-align: right;\n",
       "    }\n",
       "</style>\n",
       "<table border=\"1\" class=\"dataframe\">\n",
       "  <thead>\n",
       "    <tr style=\"text-align: right;\">\n",
       "      <th></th>\n",
       "      <th>company_permalink</th>\n",
       "      <th>funding_round_permalink</th>\n",
       "      <th>funding_round_type</th>\n",
       "      <th>raised_amount_usd</th>\n",
       "      <th>permalink</th>\n",
       "      <th>name</th>\n",
       "      <th>category_list</th>\n",
       "      <th>status</th>\n",
       "      <th>country_code</th>\n",
       "      <th>state_code</th>\n",
       "      <th>region</th>\n",
       "      <th>city</th>\n",
       "      <th>primary_sector</th>\n",
       "    </tr>\n",
       "  </thead>\n",
       "  <tbody>\n",
       "    <tr>\n",
       "      <td>0</td>\n",
       "      <td>/organization/-fame</td>\n",
       "      <td>/funding-round/9a01d05418af9f794eebff7ace91f638</td>\n",
       "      <td>venture</td>\n",
       "      <td>10,000,000.00</td>\n",
       "      <td>/organization/-fame</td>\n",
       "      <td>#fame</td>\n",
       "      <td>Media</td>\n",
       "      <td>operating</td>\n",
       "      <td>IND</td>\n",
       "      <td>16</td>\n",
       "      <td>Mumbai</td>\n",
       "      <td>Mumbai</td>\n",
       "      <td>media</td>\n",
       "    </tr>\n",
       "    <tr>\n",
       "      <td>1</td>\n",
       "      <td>/organization/-qounter</td>\n",
       "      <td>/funding-round/22dacff496eb7acb2b901dec1dfe5633</td>\n",
       "      <td>venture</td>\n",
       "      <td>1,680,511.00</td>\n",
       "      <td>/organization/-qounter</td>\n",
       "      <td>:Qounter</td>\n",
       "      <td>Application Platforms|Real Time|Social Network...</td>\n",
       "      <td>operating</td>\n",
       "      <td>USA</td>\n",
       "      <td>DE</td>\n",
       "      <td>DE - Other</td>\n",
       "      <td>Delaware City</td>\n",
       "      <td>application platforms</td>\n",
       "    </tr>\n",
       "    <tr>\n",
       "      <td>2</td>\n",
       "      <td>/organization/-qounter</td>\n",
       "      <td>/funding-round/b44fbb94153f6cdef13083530bb48030</td>\n",
       "      <td>seed</td>\n",
       "      <td>700,000.00</td>\n",
       "      <td>/organization/-qounter</td>\n",
       "      <td>:Qounter</td>\n",
       "      <td>Application Platforms|Real Time|Social Network...</td>\n",
       "      <td>operating</td>\n",
       "      <td>USA</td>\n",
       "      <td>DE</td>\n",
       "      <td>DE - Other</td>\n",
       "      <td>Delaware City</td>\n",
       "      <td>application platforms</td>\n",
       "    </tr>\n",
       "    <tr>\n",
       "      <td>4</td>\n",
       "      <td>/organization/0-6-com</td>\n",
       "      <td>/funding-round/5727accaeaa57461bd22a9bdd945382d</td>\n",
       "      <td>venture</td>\n",
       "      <td>2,000,000.00</td>\n",
       "      <td>/organization/0-6-com</td>\n",
       "      <td>0-6.com</td>\n",
       "      <td>Curated Web</td>\n",
       "      <td>operating</td>\n",
       "      <td>CHN</td>\n",
       "      <td>22</td>\n",
       "      <td>Beijing</td>\n",
       "      <td>Beijing</td>\n",
       "      <td>curated web</td>\n",
       "    </tr>\n",
       "    <tr>\n",
       "      <td>5</td>\n",
       "      <td>/organization/004-technologies</td>\n",
       "      <td>/funding-round/1278dd4e6a37fa4b7d7e06c21b3c1830</td>\n",
       "      <td>venture</td>\n",
       "      <td>1,680,511.00</td>\n",
       "      <td>/organization/004-technologies</td>\n",
       "      <td>004 Technologies</td>\n",
       "      <td>Software</td>\n",
       "      <td>operating</td>\n",
       "      <td>USA</td>\n",
       "      <td>IL</td>\n",
       "      <td>Springfield, Illinois</td>\n",
       "      <td>Champaign</td>\n",
       "      <td>software</td>\n",
       "    </tr>\n",
       "  </tbody>\n",
       "</table>\n",
       "</div>"
      ],
      "text/plain": [
       "                company_permalink  \\\n",
       "0             /organization/-fame   \n",
       "1          /organization/-qounter   \n",
       "2          /organization/-qounter   \n",
       "4           /organization/0-6-com   \n",
       "5  /organization/004-technologies   \n",
       "\n",
       "                           funding_round_permalink funding_round_type  \\\n",
       "0  /funding-round/9a01d05418af9f794eebff7ace91f638            venture   \n",
       "1  /funding-round/22dacff496eb7acb2b901dec1dfe5633            venture   \n",
       "2  /funding-round/b44fbb94153f6cdef13083530bb48030               seed   \n",
       "4  /funding-round/5727accaeaa57461bd22a9bdd945382d            venture   \n",
       "5  /funding-round/1278dd4e6a37fa4b7d7e06c21b3c1830            venture   \n",
       "\n",
       "   raised_amount_usd                       permalink              name  \\\n",
       "0      10,000,000.00             /organization/-fame             #fame   \n",
       "1       1,680,511.00          /organization/-qounter          :Qounter   \n",
       "2         700,000.00          /organization/-qounter          :Qounter   \n",
       "4       2,000,000.00           /organization/0-6-com           0-6.com   \n",
       "5       1,680,511.00  /organization/004-technologies  004 Technologies   \n",
       "\n",
       "                                       category_list     status country_code  \\\n",
       "0                                              Media  operating          IND   \n",
       "1  Application Platforms|Real Time|Social Network...  operating          USA   \n",
       "2  Application Platforms|Real Time|Social Network...  operating          USA   \n",
       "4                                        Curated Web  operating          CHN   \n",
       "5                                           Software  operating          USA   \n",
       "\n",
       "  state_code                 region           city         primary_sector  \n",
       "0         16                 Mumbai         Mumbai                  media  \n",
       "1         DE             DE - Other  Delaware City  application platforms  \n",
       "2         DE             DE - Other  Delaware City  application platforms  \n",
       "4         22                Beijing        Beijing            curated web  \n",
       "5         IL  Springfield, Illinois      Champaign               software  "
      ]
     },
     "execution_count": 196,
     "metadata": {},
     "output_type": "execute_result"
    }
   ],
   "source": [
    "master_frame9=master_frame[master_frame['country_code'].isin(top9.index)]\n",
    "master_frame9.head()"
   ]
  },
  {
   "cell_type": "code",
   "execution_count": 123,
   "metadata": {},
   "outputs": [],
   "source": [
    "master_frame3 = master_frame[master_frame['country_code'].isin(['USA', 'GBR', 'IND'])]"
   ]
  },
  {
   "cell_type": "code",
   "execution_count": 124,
   "metadata": {},
   "outputs": [
    {
     "data": {
      "text/html": [
       "<div>\n",
       "<style scoped>\n",
       "    .dataframe tbody tr th:only-of-type {\n",
       "        vertical-align: middle;\n",
       "    }\n",
       "\n",
       "    .dataframe tbody tr th {\n",
       "        vertical-align: top;\n",
       "    }\n",
       "\n",
       "    .dataframe thead th {\n",
       "        text-align: right;\n",
       "    }\n",
       "</style>\n",
       "<table border=\"1\" class=\"dataframe\">\n",
       "  <thead>\n",
       "    <tr style=\"text-align: right;\">\n",
       "      <th></th>\n",
       "      <th>company_permalink</th>\n",
       "      <th>funding_round_permalink</th>\n",
       "      <th>funding_round_type</th>\n",
       "      <th>raised_amount_usd</th>\n",
       "      <th>permalink</th>\n",
       "      <th>name</th>\n",
       "      <th>category_list</th>\n",
       "      <th>status</th>\n",
       "      <th>country_code</th>\n",
       "      <th>state_code</th>\n",
       "      <th>region</th>\n",
       "      <th>city</th>\n",
       "      <th>primary_sector</th>\n",
       "      <th>main_sector</th>\n",
       "      <th>_merge</th>\n",
       "    </tr>\n",
       "  </thead>\n",
       "  <tbody>\n",
       "    <tr>\n",
       "      <td>0</td>\n",
       "      <td>/organization/-fame</td>\n",
       "      <td>/funding-round/9a01d05418af9f794eebff7ace91f638</td>\n",
       "      <td>venture</td>\n",
       "      <td>10,000,000.00</td>\n",
       "      <td>/organization/-fame</td>\n",
       "      <td>#fame</td>\n",
       "      <td>Media</td>\n",
       "      <td>operating</td>\n",
       "      <td>IND</td>\n",
       "      <td>16</td>\n",
       "      <td>Mumbai</td>\n",
       "      <td>Mumbai</td>\n",
       "      <td>media</td>\n",
       "      <td>Entertainment</td>\n",
       "      <td>both</td>\n",
       "    </tr>\n",
       "    <tr>\n",
       "      <td>1</td>\n",
       "      <td>/organization/-qounter</td>\n",
       "      <td>/funding-round/22dacff496eb7acb2b901dec1dfe5633</td>\n",
       "      <td>venture</td>\n",
       "      <td>1,680,511.00</td>\n",
       "      <td>/organization/-qounter</td>\n",
       "      <td>:Qounter</td>\n",
       "      <td>Application Platforms|Real Time|Social Network...</td>\n",
       "      <td>operating</td>\n",
       "      <td>USA</td>\n",
       "      <td>DE</td>\n",
       "      <td>DE - Other</td>\n",
       "      <td>Delaware City</td>\n",
       "      <td>application platforms</td>\n",
       "      <td>News, Search and Messaging</td>\n",
       "      <td>both</td>\n",
       "    </tr>\n",
       "    <tr>\n",
       "      <td>2</td>\n",
       "      <td>/organization/-qounter</td>\n",
       "      <td>/funding-round/b44fbb94153f6cdef13083530bb48030</td>\n",
       "      <td>seed</td>\n",
       "      <td>700,000.00</td>\n",
       "      <td>/organization/-qounter</td>\n",
       "      <td>:Qounter</td>\n",
       "      <td>Application Platforms|Real Time|Social Network...</td>\n",
       "      <td>operating</td>\n",
       "      <td>USA</td>\n",
       "      <td>DE</td>\n",
       "      <td>DE - Other</td>\n",
       "      <td>Delaware City</td>\n",
       "      <td>application platforms</td>\n",
       "      <td>News, Search and Messaging</td>\n",
       "      <td>both</td>\n",
       "    </tr>\n",
       "    <tr>\n",
       "      <td>3</td>\n",
       "      <td>/organization/004-technologies</td>\n",
       "      <td>/funding-round/1278dd4e6a37fa4b7d7e06c21b3c1830</td>\n",
       "      <td>venture</td>\n",
       "      <td>1,680,511.00</td>\n",
       "      <td>/organization/004-technologies</td>\n",
       "      <td>004 Technologies</td>\n",
       "      <td>Software</td>\n",
       "      <td>operating</td>\n",
       "      <td>USA</td>\n",
       "      <td>IL</td>\n",
       "      <td>Springfield, Illinois</td>\n",
       "      <td>Champaign</td>\n",
       "      <td>software</td>\n",
       "      <td>Others</td>\n",
       "      <td>both</td>\n",
       "    </tr>\n",
       "    <tr>\n",
       "      <td>4</td>\n",
       "      <td>/organization/0xdata</td>\n",
       "      <td>/funding-round/383a9bd2c04f7038bb543ccef5ba3eae</td>\n",
       "      <td>seed</td>\n",
       "      <td>3,000,000.00</td>\n",
       "      <td>/organization/0xdata</td>\n",
       "      <td>H2O.ai</td>\n",
       "      <td>Analytics</td>\n",
       "      <td>operating</td>\n",
       "      <td>USA</td>\n",
       "      <td>CA</td>\n",
       "      <td>SF Bay Area</td>\n",
       "      <td>Mountain View</td>\n",
       "      <td>analytics</td>\n",
       "      <td>NaN</td>\n",
       "      <td>left_only</td>\n",
       "    </tr>\n",
       "  </tbody>\n",
       "</table>\n",
       "</div>"
      ],
      "text/plain": [
       "                company_permalink  \\\n",
       "0             /organization/-fame   \n",
       "1          /organization/-qounter   \n",
       "2          /organization/-qounter   \n",
       "3  /organization/004-technologies   \n",
       "4            /organization/0xdata   \n",
       "\n",
       "                           funding_round_permalink funding_round_type  \\\n",
       "0  /funding-round/9a01d05418af9f794eebff7ace91f638            venture   \n",
       "1  /funding-round/22dacff496eb7acb2b901dec1dfe5633            venture   \n",
       "2  /funding-round/b44fbb94153f6cdef13083530bb48030               seed   \n",
       "3  /funding-round/1278dd4e6a37fa4b7d7e06c21b3c1830            venture   \n",
       "4  /funding-round/383a9bd2c04f7038bb543ccef5ba3eae               seed   \n",
       "\n",
       "   raised_amount_usd                       permalink              name  \\\n",
       "0      10,000,000.00             /organization/-fame             #fame   \n",
       "1       1,680,511.00          /organization/-qounter          :Qounter   \n",
       "2         700,000.00          /organization/-qounter          :Qounter   \n",
       "3       1,680,511.00  /organization/004-technologies  004 Technologies   \n",
       "4       3,000,000.00            /organization/0xdata            H2O.ai   \n",
       "\n",
       "                                       category_list     status country_code  \\\n",
       "0                                              Media  operating          IND   \n",
       "1  Application Platforms|Real Time|Social Network...  operating          USA   \n",
       "2  Application Platforms|Real Time|Social Network...  operating          USA   \n",
       "3                                           Software  operating          USA   \n",
       "4                                          Analytics  operating          USA   \n",
       "\n",
       "  state_code                 region           city         primary_sector  \\\n",
       "0         16                 Mumbai         Mumbai                  media   \n",
       "1         DE             DE - Other  Delaware City  application platforms   \n",
       "2         DE             DE - Other  Delaware City  application platforms   \n",
       "3         IL  Springfield, Illinois      Champaign               software   \n",
       "4         CA            SF Bay Area  Mountain View              analytics   \n",
       "\n",
       "                  main_sector     _merge  \n",
       "0               Entertainment       both  \n",
       "1  News, Search and Messaging       both  \n",
       "2  News, Search and Messaging       both  \n",
       "3                      Others       both  \n",
       "4                         NaN  left_only  "
      ]
     },
     "execution_count": 124,
     "metadata": {},
     "output_type": "execute_result"
    }
   ],
   "source": [
    "master_frame3 = pd.merge(master_frame3, mapping_df, how='left', on='primary_sector', indicator=True)\n",
    "master_frame3.head()\n"
   ]
  },
  {
   "cell_type": "code",
   "execution_count": 125,
   "metadata": {},
   "outputs": [
    {
     "data": {
      "text/plain": [
       "1847                 0notechnology\n",
       "1848    0tural language processing\n",
       "1849              0tural resources\n",
       "4602                     0vigation\n",
       "3441                            3d\n",
       "                   ...            \n",
       "2748              wine and spirits\n",
       "2749                      wireless\n",
       "5502                         women\n",
       "5503                  young adults\n",
       "688                            NaN\n",
       "Name: primary_sector, Length: 688, dtype: object"
      ]
     },
     "execution_count": 125,
     "metadata": {},
     "output_type": "execute_result"
    }
   ],
   "source": [
    "mapping_df.primary_sector.sort_values(ascending=True)"
   ]
  },
  {
   "cell_type": "markdown",
   "metadata": {},
   "source": [
    "#### Somehow na is being shown as 0 in the primary sector values, the simplest way to deal with this is to use a regex and replace 0 with na"
   ]
  },
  {
   "cell_type": "code",
   "execution_count": 127,
   "metadata": {},
   "outputs": [],
   "source": [
    "mapping_df['primary_sector'] = mapping_df.primary_sector.apply(lambda x: re.sub('[0]', 'na', str(x)))"
   ]
  },
  {
   "cell_type": "code",
   "execution_count": 130,
   "metadata": {},
   "outputs": [
    {
     "data": {
      "text/plain": [
       "3441                  3d\n",
       "3442         3d printing\n",
       "3443       3d technology\n",
       "5508          accounting\n",
       "2757    active lifestyle\n",
       "Name: primary_sector, dtype: object"
      ]
     },
     "execution_count": 130,
     "metadata": {},
     "output_type": "execute_result"
    }
   ],
   "source": [
    "mapping_df.primary_sector.sort_values(ascending=True).head()"
   ]
  },
  {
   "cell_type": "markdown",
   "metadata": {},
   "source": [
    "#### Removing all values that do not fall under our 5-15 Mil threshhold"
   ]
  },
  {
   "cell_type": "code",
   "execution_count": 131,
   "metadata": {},
   "outputs": [],
   "source": [
    "master_frame3 = master_frame3.drop(master_frame3[(master_frame3.raised_amount_usd < 5000000)].index)\n",
    "master_frame3 = master_frame3.drop(master_frame3[(master_frame3.raised_amount_usd > 15000000)].index)\n",
    "\n",
    "d1 = master_frame3[master_frame3['country_code'] == 'USA']\n",
    "d2 = master_frame3[master_frame3['country_code'] == 'GBR']\n",
    "d3 = master_frame3[master_frame3['country_code'] == 'IND']"
   ]
  },
  {
   "cell_type": "code",
   "execution_count": 197,
   "metadata": {
    "scrolled": true
   },
   "outputs": [
    {
     "data": {
      "text/plain": [
       "13641"
      ]
     },
     "execution_count": 197,
     "metadata": {},
     "output_type": "execute_result"
    }
   ],
   "source": [
    "master_frame3['raised_amount_usd'].count()"
   ]
  },
  {
   "cell_type": "markdown",
   "metadata": {},
   "source": [
    "### Let's make a pivot table for all our sectors to observe count,mean, median and sum all in a tabular format"
   ]
  },
  {
   "cell_type": "markdown",
   "metadata": {},
   "source": [
    "## D1-USA"
   ]
  },
  {
   "cell_type": "code",
   "execution_count": 141,
   "metadata": {},
   "outputs": [
    {
     "data": {
      "text/html": [
       "<div>\n",
       "<style scoped>\n",
       "    .dataframe tbody tr th:only-of-type {\n",
       "        vertical-align: middle;\n",
       "    }\n",
       "\n",
       "    .dataframe tbody tr th {\n",
       "        vertical-align: top;\n",
       "    }\n",
       "\n",
       "    .dataframe thead th {\n",
       "        text-align: right;\n",
       "    }\n",
       "</style>\n",
       "<table border=\"1\" class=\"dataframe\">\n",
       "  <thead>\n",
       "    <tr style=\"text-align: right;\">\n",
       "      <th></th>\n",
       "      <th>count</th>\n",
       "      <th>mean</th>\n",
       "      <th>median</th>\n",
       "      <th>sum</th>\n",
       "    </tr>\n",
       "    <tr>\n",
       "      <th>main_sector</th>\n",
       "      <th></th>\n",
       "      <th></th>\n",
       "      <th></th>\n",
       "      <th></th>\n",
       "    </tr>\n",
       "  </thead>\n",
       "  <tbody>\n",
       "    <tr>\n",
       "      <td>Automotive &amp; Sports</td>\n",
       "      <td>178</td>\n",
       "      <td>8,682,707.06</td>\n",
       "      <td>8,050,000.00</td>\n",
       "      <td>1,545,521,856.00</td>\n",
       "    </tr>\n",
       "    <tr>\n",
       "      <td>Cleantech / Semiconductors</td>\n",
       "      <td>2408</td>\n",
       "      <td>9,224,783.82</td>\n",
       "      <td>9,000,000.00</td>\n",
       "      <td>22,213,279,446.00</td>\n",
       "    </tr>\n",
       "    <tr>\n",
       "      <td>Entertainment</td>\n",
       "      <td>598</td>\n",
       "      <td>8,593,516.67</td>\n",
       "      <td>8,000,000.00</td>\n",
       "      <td>5,138,922,970.00</td>\n",
       "    </tr>\n",
       "    <tr>\n",
       "      <td>Health</td>\n",
       "      <td>964</td>\n",
       "      <td>8,982,796.41</td>\n",
       "      <td>8,577,500.00</td>\n",
       "      <td>8,659,415,735.00</td>\n",
       "    </tr>\n",
       "    <tr>\n",
       "      <td>Manufacturing</td>\n",
       "      <td>822</td>\n",
       "      <td>9,067,874.60</td>\n",
       "      <td>8,788,115.50</td>\n",
       "      <td>7,453,792,922.00</td>\n",
       "    </tr>\n",
       "    <tr>\n",
       "      <td>News, Search and Messaging</td>\n",
       "      <td>1614</td>\n",
       "      <td>8,780,433.38</td>\n",
       "      <td>8,000,000.00</td>\n",
       "      <td>14,171,619,470.00</td>\n",
       "    </tr>\n",
       "    <tr>\n",
       "      <td>Others</td>\n",
       "      <td>3014</td>\n",
       "      <td>8,914,731.73</td>\n",
       "      <td>8,250,000.00</td>\n",
       "      <td>26,869,001,443.00</td>\n",
       "    </tr>\n",
       "    <tr>\n",
       "      <td>Social, Finance, Analytics, Advertising</td>\n",
       "      <td>1979</td>\n",
       "      <td>8,682,407.70</td>\n",
       "      <td>8,000,000.00</td>\n",
       "      <td>17,182,484,847.00</td>\n",
       "    </tr>\n",
       "  </tbody>\n",
       "</table>\n",
       "</div>"
      ],
      "text/plain": [
       "                                         count         mean       median  \\\n",
       "main_sector                                                                \n",
       "Automotive & Sports                        178 8,682,707.06 8,050,000.00   \n",
       "Cleantech / Semiconductors                2408 9,224,783.82 9,000,000.00   \n",
       "Entertainment                              598 8,593,516.67 8,000,000.00   \n",
       "Health                                     964 8,982,796.41 8,577,500.00   \n",
       "Manufacturing                              822 9,067,874.60 8,788,115.50   \n",
       "News, Search and Messaging                1614 8,780,433.38 8,000,000.00   \n",
       "Others                                    3014 8,914,731.73 8,250,000.00   \n",
       "Social, Finance, Analytics, Advertising   1979 8,682,407.70 8,000,000.00   \n",
       "\n",
       "                                                      sum  \n",
       "main_sector                                                \n",
       "Automotive & Sports                      1,545,521,856.00  \n",
       "Cleantech / Semiconductors              22,213,279,446.00  \n",
       "Entertainment                            5,138,922,970.00  \n",
       "Health                                   8,659,415,735.00  \n",
       "Manufacturing                            7,453,792,922.00  \n",
       "News, Search and Messaging              14,171,619,470.00  \n",
       "Others                                  26,869,001,443.00  \n",
       "Social, Finance, Analytics, Advertising 17,182,484,847.00  "
      ]
     },
     "execution_count": 141,
     "metadata": {},
     "output_type": "execute_result"
    }
   ],
   "source": [
    "d1.pivot_table(values = 'raised_amount_usd',index = ['main_sector'], aggfunc = {'sum','count','mean','median'})"
   ]
  },
  {
   "cell_type": "code",
   "execution_count": 136,
   "metadata": {},
   "outputs": [
    {
     "data": {
      "text/plain": [
       "12635"
      ]
     },
     "execution_count": 136,
     "metadata": {},
     "output_type": "execute_result"
    }
   ],
   "source": [
    "d1['raised_amount_usd'].count()"
   ]
  },
  {
   "cell_type": "code",
   "execution_count": 137,
   "metadata": {},
   "outputs": [
    {
     "data": {
      "text/plain": [
       "112562637512.0"
      ]
     },
     "execution_count": 137,
     "metadata": {},
     "output_type": "execute_result"
    }
   ],
   "source": [
    "d1['raised_amount_usd'].sum()"
   ]
  },
  {
   "cell_type": "code",
   "execution_count": 138,
   "metadata": {},
   "outputs": [
    {
     "data": {
      "text/plain": [
       "8250000.0"
      ]
     },
     "execution_count": 138,
     "metadata": {},
     "output_type": "execute_result"
    }
   ],
   "source": [
    "d1['raised_amount_usd'].median()"
   ]
  },
  {
   "cell_type": "code",
   "execution_count": 139,
   "metadata": {},
   "outputs": [
    {
     "data": {
      "text/plain": [
       "8908796.004115552"
      ]
     },
     "execution_count": 139,
     "metadata": {},
     "output_type": "execute_result"
    }
   ],
   "source": [
    "d1['raised_amount_usd'].mean()"
   ]
  },
  {
   "cell_type": "code",
   "execution_count": 140,
   "metadata": {},
   "outputs": [
    {
     "data": {
      "text/plain": [
       "main_sector\n",
       "Others                                     3014\n",
       "Cleantech / Semiconductors                 2408\n",
       "Social, Finance, Analytics, Advertising    1979\n",
       "News, Search and Messaging                 1614\n",
       "Health                                      964\n",
       "Manufacturing                               822\n",
       "Entertainment                               598\n",
       "Automotive & Sports                         178\n",
       "Name: raised_amount_usd, dtype: int64"
      ]
     },
     "execution_count": 140,
     "metadata": {},
     "output_type": "execute_result"
    }
   ],
   "source": [
    "d1.groupby('main_sector')['raised_amount_usd'].count().sort_values(ascending=False)"
   ]
  },
  {
   "cell_type": "code",
   "execution_count": 206,
   "metadata": {},
   "outputs": [
    {
     "data": {
      "text/plain": [
       "permalink\n",
       "/organization/virtustream         64,300,000.00\n",
       "/organization/capella             54,968,051.00\n",
       "/organization/airtight-networks   54,201,907.00\n",
       "/organization/decarta             52,100,000.00\n",
       "/organization/deliveryagent       51,538,337.00\n",
       "Name: raised_amount_usd, dtype: float64"
      ]
     },
     "execution_count": 206,
     "metadata": {},
     "output_type": "execute_result"
    }
   ],
   "source": [
    "d1[d1['main_sector'] == \"Others\" ].groupby('permalink')['raised_amount_usd'].sum().sort_values(ascending=False).head(5)"
   ]
  },
  {
   "cell_type": "code",
   "execution_count": 208,
   "metadata": {},
   "outputs": [
    {
     "data": {
      "text/html": [
       "<div>\n",
       "<style scoped>\n",
       "    .dataframe tbody tr th:only-of-type {\n",
       "        vertical-align: middle;\n",
       "    }\n",
       "\n",
       "    .dataframe tbody tr th {\n",
       "        vertical-align: top;\n",
       "    }\n",
       "\n",
       "    .dataframe thead th {\n",
       "        text-align: right;\n",
       "    }\n",
       "</style>\n",
       "<table border=\"1\" class=\"dataframe\">\n",
       "  <thead>\n",
       "    <tr style=\"text-align: right;\">\n",
       "      <th></th>\n",
       "      <th>company_permalink</th>\n",
       "      <th>funding_round_permalink</th>\n",
       "      <th>funding_round_type</th>\n",
       "      <th>raised_amount_usd</th>\n",
       "      <th>permalink</th>\n",
       "      <th>name</th>\n",
       "      <th>category_list</th>\n",
       "      <th>status</th>\n",
       "      <th>country_code</th>\n",
       "      <th>state_code</th>\n",
       "      <th>region</th>\n",
       "      <th>city</th>\n",
       "      <th>primary_sector</th>\n",
       "      <th>main_sector</th>\n",
       "      <th>_merge</th>\n",
       "    </tr>\n",
       "  </thead>\n",
       "  <tbody>\n",
       "    <tr>\n",
       "      <td>61005</td>\n",
       "      <td>/organization/virtustream</td>\n",
       "      <td>/funding-round/3354ac55dd5369fa5fb282e7946baadf</td>\n",
       "      <td>venture</td>\n",
       "      <td>9,550,000.00</td>\n",
       "      <td>/organization/virtustream</td>\n",
       "      <td>Virtustream</td>\n",
       "      <td>Enterprise Software</td>\n",
       "      <td>acquired</td>\n",
       "      <td>USA</td>\n",
       "      <td>MD</td>\n",
       "      <td>Washington, D.C.</td>\n",
       "      <td>Bethesda</td>\n",
       "      <td>enterprise software</td>\n",
       "      <td>Others</td>\n",
       "      <td>both</td>\n",
       "    </tr>\n",
       "    <tr>\n",
       "      <td>61006</td>\n",
       "      <td>/organization/virtustream</td>\n",
       "      <td>/funding-round/4cdede382a6f29d05b59d833773910ee</td>\n",
       "      <td>venture</td>\n",
       "      <td>10,000,000.00</td>\n",
       "      <td>/organization/virtustream</td>\n",
       "      <td>Virtustream</td>\n",
       "      <td>Enterprise Software</td>\n",
       "      <td>acquired</td>\n",
       "      <td>USA</td>\n",
       "      <td>MD</td>\n",
       "      <td>Washington, D.C.</td>\n",
       "      <td>Bethesda</td>\n",
       "      <td>enterprise software</td>\n",
       "      <td>Others</td>\n",
       "      <td>both</td>\n",
       "    </tr>\n",
       "    <tr>\n",
       "      <td>61008</td>\n",
       "      <td>/organization/virtustream</td>\n",
       "      <td>/funding-round/5f44788266cec29ef0ca4a54bf37c805</td>\n",
       "      <td>venture</td>\n",
       "      <td>9,750,000.00</td>\n",
       "      <td>/organization/virtustream</td>\n",
       "      <td>Virtustream</td>\n",
       "      <td>Enterprise Software</td>\n",
       "      <td>acquired</td>\n",
       "      <td>USA</td>\n",
       "      <td>MD</td>\n",
       "      <td>Washington, D.C.</td>\n",
       "      <td>Bethesda</td>\n",
       "      <td>enterprise software</td>\n",
       "      <td>Others</td>\n",
       "      <td>both</td>\n",
       "    </tr>\n",
       "    <tr>\n",
       "      <td>61010</td>\n",
       "      <td>/organization/virtustream</td>\n",
       "      <td>/funding-round/ad39aaecd63911d035b37907cebfc3fd</td>\n",
       "      <td>venture</td>\n",
       "      <td>15,000,000.00</td>\n",
       "      <td>/organization/virtustream</td>\n",
       "      <td>Virtustream</td>\n",
       "      <td>Enterprise Software</td>\n",
       "      <td>acquired</td>\n",
       "      <td>USA</td>\n",
       "      <td>MD</td>\n",
       "      <td>Washington, D.C.</td>\n",
       "      <td>Bethesda</td>\n",
       "      <td>enterprise software</td>\n",
       "      <td>Others</td>\n",
       "      <td>both</td>\n",
       "    </tr>\n",
       "    <tr>\n",
       "      <td>61011</td>\n",
       "      <td>/organization/virtustream</td>\n",
       "      <td>/funding-round/aeb17cd77f13485b94d9f37409caddeb</td>\n",
       "      <td>venture</td>\n",
       "      <td>5,000,000.00</td>\n",
       "      <td>/organization/virtustream</td>\n",
       "      <td>Virtustream</td>\n",
       "      <td>Enterprise Software</td>\n",
       "      <td>acquired</td>\n",
       "      <td>USA</td>\n",
       "      <td>MD</td>\n",
       "      <td>Washington, D.C.</td>\n",
       "      <td>Bethesda</td>\n",
       "      <td>enterprise software</td>\n",
       "      <td>Others</td>\n",
       "      <td>both</td>\n",
       "    </tr>\n",
       "    <tr>\n",
       "      <td>61013</td>\n",
       "      <td>/organization/virtustream</td>\n",
       "      <td>/funding-round/e609500837793f94351a0c77716baa47</td>\n",
       "      <td>venture</td>\n",
       "      <td>15,000,000.00</td>\n",
       "      <td>/organization/virtustream</td>\n",
       "      <td>Virtustream</td>\n",
       "      <td>Enterprise Software</td>\n",
       "      <td>acquired</td>\n",
       "      <td>USA</td>\n",
       "      <td>MD</td>\n",
       "      <td>Washington, D.C.</td>\n",
       "      <td>Bethesda</td>\n",
       "      <td>enterprise software</td>\n",
       "      <td>Others</td>\n",
       "      <td>both</td>\n",
       "    </tr>\n",
       "  </tbody>\n",
       "</table>\n",
       "</div>"
      ],
      "text/plain": [
       "               company_permalink  \\\n",
       "61005  /organization/virtustream   \n",
       "61006  /organization/virtustream   \n",
       "61008  /organization/virtustream   \n",
       "61010  /organization/virtustream   \n",
       "61011  /organization/virtustream   \n",
       "61013  /organization/virtustream   \n",
       "\n",
       "                               funding_round_permalink funding_round_type  \\\n",
       "61005  /funding-round/3354ac55dd5369fa5fb282e7946baadf            venture   \n",
       "61006  /funding-round/4cdede382a6f29d05b59d833773910ee            venture   \n",
       "61008  /funding-round/5f44788266cec29ef0ca4a54bf37c805            venture   \n",
       "61010  /funding-round/ad39aaecd63911d035b37907cebfc3fd            venture   \n",
       "61011  /funding-round/aeb17cd77f13485b94d9f37409caddeb            venture   \n",
       "61013  /funding-round/e609500837793f94351a0c77716baa47            venture   \n",
       "\n",
       "       raised_amount_usd                  permalink         name  \\\n",
       "61005       9,550,000.00  /organization/virtustream  Virtustream   \n",
       "61006      10,000,000.00  /organization/virtustream  Virtustream   \n",
       "61008       9,750,000.00  /organization/virtustream  Virtustream   \n",
       "61010      15,000,000.00  /organization/virtustream  Virtustream   \n",
       "61011       5,000,000.00  /organization/virtustream  Virtustream   \n",
       "61013      15,000,000.00  /organization/virtustream  Virtustream   \n",
       "\n",
       "             category_list    status country_code state_code  \\\n",
       "61005  Enterprise Software  acquired          USA         MD   \n",
       "61006  Enterprise Software  acquired          USA         MD   \n",
       "61008  Enterprise Software  acquired          USA         MD   \n",
       "61010  Enterprise Software  acquired          USA         MD   \n",
       "61011  Enterprise Software  acquired          USA         MD   \n",
       "61013  Enterprise Software  acquired          USA         MD   \n",
       "\n",
       "                 region      city       primary_sector main_sector _merge  \n",
       "61005  Washington, D.C.  Bethesda  enterprise software      Others   both  \n",
       "61006  Washington, D.C.  Bethesda  enterprise software      Others   both  \n",
       "61008  Washington, D.C.  Bethesda  enterprise software      Others   both  \n",
       "61010  Washington, D.C.  Bethesda  enterprise software      Others   both  \n",
       "61011  Washington, D.C.  Bethesda  enterprise software      Others   both  \n",
       "61013  Washington, D.C.  Bethesda  enterprise software      Others   both  "
      ]
     },
     "execution_count": 208,
     "metadata": {},
     "output_type": "execute_result"
    }
   ],
   "source": [
    "d1.loc[d1['permalink']==\"/organization/virtustream\"]"
   ]
  },
  {
   "cell_type": "markdown",
   "metadata": {},
   "source": [
    "## D2"
   ]
  },
  {
   "cell_type": "code",
   "execution_count": 142,
   "metadata": {},
   "outputs": [
    {
     "data": {
      "text/html": [
       "<div>\n",
       "<style scoped>\n",
       "    .dataframe tbody tr th:only-of-type {\n",
       "        vertical-align: middle;\n",
       "    }\n",
       "\n",
       "    .dataframe tbody tr th {\n",
       "        vertical-align: top;\n",
       "    }\n",
       "\n",
       "    .dataframe thead th {\n",
       "        text-align: right;\n",
       "    }\n",
       "</style>\n",
       "<table border=\"1\" class=\"dataframe\">\n",
       "  <thead>\n",
       "    <tr style=\"text-align: right;\">\n",
       "      <th></th>\n",
       "      <th>count</th>\n",
       "      <th>mean</th>\n",
       "      <th>median</th>\n",
       "      <th>sum</th>\n",
       "    </tr>\n",
       "    <tr>\n",
       "      <th>main_sector</th>\n",
       "      <th></th>\n",
       "      <th></th>\n",
       "      <th></th>\n",
       "      <th></th>\n",
       "    </tr>\n",
       "  </thead>\n",
       "  <tbody>\n",
       "    <tr>\n",
       "      <td>Automotive &amp; Sports</td>\n",
       "      <td>17</td>\n",
       "      <td>10,183,092.35</td>\n",
       "      <td>10,000,000.00</td>\n",
       "      <td>173,112,570.00</td>\n",
       "    </tr>\n",
       "    <tr>\n",
       "      <td>Cleantech / Semiconductors</td>\n",
       "      <td>130</td>\n",
       "      <td>8,941,070.46</td>\n",
       "      <td>8,342,136.50</td>\n",
       "      <td>1,162,339,160.00</td>\n",
       "    </tr>\n",
       "    <tr>\n",
       "      <td>Entertainment</td>\n",
       "      <td>55</td>\n",
       "      <td>8,639,060.38</td>\n",
       "      <td>8,500,000.00</td>\n",
       "      <td>475,148,321.00</td>\n",
       "    </tr>\n",
       "    <tr>\n",
       "      <td>Health</td>\n",
       "      <td>26</td>\n",
       "      <td>8,905,288.85</td>\n",
       "      <td>7,846,072.50</td>\n",
       "      <td>231,537,510.00</td>\n",
       "    </tr>\n",
       "    <tr>\n",
       "      <td>Manufacturing</td>\n",
       "      <td>45</td>\n",
       "      <td>8,710,443.82</td>\n",
       "      <td>8,000,000.00</td>\n",
       "      <td>391,969,972.00</td>\n",
       "    </tr>\n",
       "    <tr>\n",
       "      <td>News, Search and Messaging</td>\n",
       "      <td>82</td>\n",
       "      <td>8,219,367.89</td>\n",
       "      <td>7,402,626.50</td>\n",
       "      <td>673,988,167.00</td>\n",
       "    </tr>\n",
       "    <tr>\n",
       "      <td>Others</td>\n",
       "      <td>149</td>\n",
       "      <td>8,714,392.19</td>\n",
       "      <td>8,000,000.00</td>\n",
       "      <td>1,298,444,436.00</td>\n",
       "    </tr>\n",
       "    <tr>\n",
       "      <td>Social, Finance, Analytics, Advertising</td>\n",
       "      <td>103</td>\n",
       "      <td>8,435,549.15</td>\n",
       "      <td>8,000,000.00</td>\n",
       "      <td>868,861,562.00</td>\n",
       "    </tr>\n",
       "  </tbody>\n",
       "</table>\n",
       "</div>"
      ],
      "text/plain": [
       "                                         count          mean        median  \\\n",
       "main_sector                                                                  \n",
       "Automotive & Sports                         17 10,183,092.35 10,000,000.00   \n",
       "Cleantech / Semiconductors                 130  8,941,070.46  8,342,136.50   \n",
       "Entertainment                               55  8,639,060.38  8,500,000.00   \n",
       "Health                                      26  8,905,288.85  7,846,072.50   \n",
       "Manufacturing                               45  8,710,443.82  8,000,000.00   \n",
       "News, Search and Messaging                  82  8,219,367.89  7,402,626.50   \n",
       "Others                                     149  8,714,392.19  8,000,000.00   \n",
       "Social, Finance, Analytics, Advertising    103  8,435,549.15  8,000,000.00   \n",
       "\n",
       "                                                     sum  \n",
       "main_sector                                               \n",
       "Automotive & Sports                       173,112,570.00  \n",
       "Cleantech / Semiconductors              1,162,339,160.00  \n",
       "Entertainment                             475,148,321.00  \n",
       "Health                                    231,537,510.00  \n",
       "Manufacturing                             391,969,972.00  \n",
       "News, Search and Messaging                673,988,167.00  \n",
       "Others                                  1,298,444,436.00  \n",
       "Social, Finance, Analytics, Advertising   868,861,562.00  "
      ]
     },
     "execution_count": 142,
     "metadata": {},
     "output_type": "execute_result"
    }
   ],
   "source": [
    "d2.pivot_table(values = 'raised_amount_usd',index = ['main_sector'], aggfunc = {'sum','count','mean','median'})"
   ]
  },
  {
   "cell_type": "code",
   "execution_count": 143,
   "metadata": {},
   "outputs": [
    {
     "data": {
      "text/plain": [
       "664"
      ]
     },
     "execution_count": 143,
     "metadata": {},
     "output_type": "execute_result"
    }
   ],
   "source": [
    "d2['raised_amount_usd'].count()"
   ]
  },
  {
   "cell_type": "code",
   "execution_count": 145,
   "metadata": {},
   "outputs": [
    {
     "data": {
      "text/plain": [
       "5726936263.0"
      ]
     },
     "execution_count": 145,
     "metadata": {},
     "output_type": "execute_result"
    }
   ],
   "source": [
    "d2['raised_amount_usd'].sum()"
   ]
  },
  {
   "cell_type": "code",
   "execution_count": 146,
   "metadata": {},
   "outputs": [
    {
     "data": {
      "text/plain": [
       "8000000.0"
      ]
     },
     "execution_count": 146,
     "metadata": {},
     "output_type": "execute_result"
    }
   ],
   "source": [
    "d2['raised_amount_usd'].median()"
   ]
  },
  {
   "cell_type": "code",
   "execution_count": 147,
   "metadata": {},
   "outputs": [
    {
     "data": {
      "text/plain": [
       "8624904.01054217"
      ]
     },
     "execution_count": 147,
     "metadata": {},
     "output_type": "execute_result"
    }
   ],
   "source": [
    "d2['raised_amount_usd'].mean()"
   ]
  },
  {
   "cell_type": "code",
   "execution_count": 148,
   "metadata": {},
   "outputs": [
    {
     "data": {
      "text/plain": [
       "main_sector\n",
       "Others                                     149\n",
       "Cleantech / Semiconductors                 130\n",
       "Social, Finance, Analytics, Advertising    103\n",
       "News, Search and Messaging                  82\n",
       "Entertainment                               55\n",
       "Manufacturing                               45\n",
       "Health                                      26\n",
       "Automotive & Sports                         17\n",
       "Name: raised_amount_usd, dtype: int64"
      ]
     },
     "execution_count": 148,
     "metadata": {},
     "output_type": "execute_result"
    }
   ],
   "source": [
    "d2.groupby('main_sector')['raised_amount_usd'].count().sort_values(ascending=False)"
   ]
  },
  {
   "cell_type": "code",
   "execution_count": 209,
   "metadata": {},
   "outputs": [
    {
     "data": {
      "text/plain": [
       "permalink\n",
       "/organization/electric-cloud            37,000,000.00\n",
       "/organization/sensage                   36,250,000.00\n",
       "/organization/enigmatic                 32,500,000.00\n",
       "/organization/silverrail-technologies   29,000,000.00\n",
       "/organization/opencloud                 27,972,766.00\n",
       "Name: raised_amount_usd, dtype: float64"
      ]
     },
     "execution_count": 209,
     "metadata": {},
     "output_type": "execute_result"
    }
   ],
   "source": [
    "d2[d2['main_sector'] == \"Others\" ].groupby('permalink')['raised_amount_usd'].sum().sort_values(ascending=False).head(5)"
   ]
  },
  {
   "cell_type": "code",
   "execution_count": 220,
   "metadata": {},
   "outputs": [
    {
     "data": {
      "text/html": [
       "<div>\n",
       "<style scoped>\n",
       "    .dataframe tbody tr th:only-of-type {\n",
       "        vertical-align: middle;\n",
       "    }\n",
       "\n",
       "    .dataframe tbody tr th {\n",
       "        vertical-align: top;\n",
       "    }\n",
       "\n",
       "    .dataframe thead th {\n",
       "        text-align: right;\n",
       "    }\n",
       "</style>\n",
       "<table border=\"1\" class=\"dataframe\">\n",
       "  <thead>\n",
       "    <tr style=\"text-align: right;\">\n",
       "      <th></th>\n",
       "      <th>company_permalink</th>\n",
       "      <th>funding_round_permalink</th>\n",
       "      <th>funding_round_type</th>\n",
       "      <th>raised_amount_usd</th>\n",
       "      <th>permalink</th>\n",
       "      <th>name</th>\n",
       "      <th>category_list</th>\n",
       "      <th>status</th>\n",
       "      <th>country_code</th>\n",
       "      <th>state_code</th>\n",
       "      <th>region</th>\n",
       "      <th>city</th>\n",
       "      <th>primary_sector</th>\n",
       "      <th>main_sector</th>\n",
       "      <th>_merge</th>\n",
       "    </tr>\n",
       "  </thead>\n",
       "  <tbody>\n",
       "    <tr>\n",
       "      <td>17581</td>\n",
       "      <td>/organization/electric-cloud</td>\n",
       "      <td>/funding-round/0471ecf9dc235b2d8900b4acf6fa47b0</td>\n",
       "      <td>venture</td>\n",
       "      <td>9,000,000.00</td>\n",
       "      <td>/organization/electric-cloud</td>\n",
       "      <td>Electric Cloud</td>\n",
       "      <td>Software</td>\n",
       "      <td>operating</td>\n",
       "      <td>GBR</td>\n",
       "      <td>H9</td>\n",
       "      <td>London</td>\n",
       "      <td>London</td>\n",
       "      <td>software</td>\n",
       "      <td>Others</td>\n",
       "      <td>both</td>\n",
       "    </tr>\n",
       "    <tr>\n",
       "      <td>17582</td>\n",
       "      <td>/organization/electric-cloud</td>\n",
       "      <td>/funding-round/18b59aa860d015808d7e0e4a5dfe2e7e</td>\n",
       "      <td>venture</td>\n",
       "      <td>8,000,000.00</td>\n",
       "      <td>/organization/electric-cloud</td>\n",
       "      <td>Electric Cloud</td>\n",
       "      <td>Software</td>\n",
       "      <td>operating</td>\n",
       "      <td>GBR</td>\n",
       "      <td>H9</td>\n",
       "      <td>London</td>\n",
       "      <td>London</td>\n",
       "      <td>software</td>\n",
       "      <td>Others</td>\n",
       "      <td>both</td>\n",
       "    </tr>\n",
       "    <tr>\n",
       "      <td>17583</td>\n",
       "      <td>/organization/electric-cloud</td>\n",
       "      <td>/funding-round/92b7e109112fc2d0bb8e72a07cd64013</td>\n",
       "      <td>venture</td>\n",
       "      <td>8,000,000.00</td>\n",
       "      <td>/organization/electric-cloud</td>\n",
       "      <td>Electric Cloud</td>\n",
       "      <td>Software</td>\n",
       "      <td>operating</td>\n",
       "      <td>GBR</td>\n",
       "      <td>H9</td>\n",
       "      <td>London</td>\n",
       "      <td>London</td>\n",
       "      <td>software</td>\n",
       "      <td>Others</td>\n",
       "      <td>both</td>\n",
       "    </tr>\n",
       "    <tr>\n",
       "      <td>17586</td>\n",
       "      <td>/organization/electric-cloud</td>\n",
       "      <td>/funding-round/cfc71183f508736cbf12dc17d2f2c91f</td>\n",
       "      <td>venture</td>\n",
       "      <td>12,000,000.00</td>\n",
       "      <td>/organization/electric-cloud</td>\n",
       "      <td>Electric Cloud</td>\n",
       "      <td>Software</td>\n",
       "      <td>operating</td>\n",
       "      <td>GBR</td>\n",
       "      <td>H9</td>\n",
       "      <td>London</td>\n",
       "      <td>London</td>\n",
       "      <td>software</td>\n",
       "      <td>Others</td>\n",
       "      <td>both</td>\n",
       "    </tr>\n",
       "  </tbody>\n",
       "</table>\n",
       "</div>"
      ],
      "text/plain": [
       "                  company_permalink  \\\n",
       "17581  /organization/electric-cloud   \n",
       "17582  /organization/electric-cloud   \n",
       "17583  /organization/electric-cloud   \n",
       "17586  /organization/electric-cloud   \n",
       "\n",
       "                               funding_round_permalink funding_round_type  \\\n",
       "17581  /funding-round/0471ecf9dc235b2d8900b4acf6fa47b0            venture   \n",
       "17582  /funding-round/18b59aa860d015808d7e0e4a5dfe2e7e            venture   \n",
       "17583  /funding-round/92b7e109112fc2d0bb8e72a07cd64013            venture   \n",
       "17586  /funding-round/cfc71183f508736cbf12dc17d2f2c91f            venture   \n",
       "\n",
       "       raised_amount_usd                     permalink            name  \\\n",
       "17581       9,000,000.00  /organization/electric-cloud  Electric Cloud   \n",
       "17582       8,000,000.00  /organization/electric-cloud  Electric Cloud   \n",
       "17583       8,000,000.00  /organization/electric-cloud  Electric Cloud   \n",
       "17586      12,000,000.00  /organization/electric-cloud  Electric Cloud   \n",
       "\n",
       "      category_list     status country_code state_code  region    city  \\\n",
       "17581      Software  operating          GBR         H9  London  London   \n",
       "17582      Software  operating          GBR         H9  London  London   \n",
       "17583      Software  operating          GBR         H9  London  London   \n",
       "17586      Software  operating          GBR         H9  London  London   \n",
       "\n",
       "      primary_sector main_sector _merge  \n",
       "17581       software      Others   both  \n",
       "17582       software      Others   both  \n",
       "17583       software      Others   both  \n",
       "17586       software      Others   both  "
      ]
     },
     "execution_count": 220,
     "metadata": {},
     "output_type": "execute_result"
    }
   ],
   "source": [
    "d2.loc[d2['permalink']=='/organization/electric-cloud']"
   ]
  },
  {
   "cell_type": "markdown",
   "metadata": {},
   "source": [
    "## D3"
   ]
  },
  {
   "cell_type": "code",
   "execution_count": 149,
   "metadata": {},
   "outputs": [
    {
     "data": {
      "text/html": [
       "<div>\n",
       "<style scoped>\n",
       "    .dataframe tbody tr th:only-of-type {\n",
       "        vertical-align: middle;\n",
       "    }\n",
       "\n",
       "    .dataframe tbody tr th {\n",
       "        vertical-align: top;\n",
       "    }\n",
       "\n",
       "    .dataframe thead th {\n",
       "        text-align: right;\n",
       "    }\n",
       "</style>\n",
       "<table border=\"1\" class=\"dataframe\">\n",
       "  <thead>\n",
       "    <tr style=\"text-align: right;\">\n",
       "      <th></th>\n",
       "      <th>count</th>\n",
       "      <th>mean</th>\n",
       "      <th>median</th>\n",
       "      <th>sum</th>\n",
       "    </tr>\n",
       "    <tr>\n",
       "      <th>main_sector</th>\n",
       "      <th></th>\n",
       "      <th></th>\n",
       "      <th></th>\n",
       "      <th></th>\n",
       "    </tr>\n",
       "  </thead>\n",
       "  <tbody>\n",
       "    <tr>\n",
       "      <td>Automotive &amp; Sports</td>\n",
       "      <td>13</td>\n",
       "      <td>10,530,769.23</td>\n",
       "      <td>11,000,000.00</td>\n",
       "      <td>136,900,000.00</td>\n",
       "    </tr>\n",
       "    <tr>\n",
       "      <td>Cleantech / Semiconductors</td>\n",
       "      <td>21</td>\n",
       "      <td>8,284,761.90</td>\n",
       "      <td>8,000,000.00</td>\n",
       "      <td>173,980,000.00</td>\n",
       "    </tr>\n",
       "    <tr>\n",
       "      <td>Entertainment</td>\n",
       "      <td>34</td>\n",
       "      <td>8,642,058.82</td>\n",
       "      <td>8,090,000.00</td>\n",
       "      <td>293,830,000.00</td>\n",
       "    </tr>\n",
       "    <tr>\n",
       "      <td>Health</td>\n",
       "      <td>20</td>\n",
       "      <td>8,687,000.00</td>\n",
       "      <td>9,000,000.00</td>\n",
       "      <td>173,740,000.00</td>\n",
       "    </tr>\n",
       "    <tr>\n",
       "      <td>Manufacturing</td>\n",
       "      <td>21</td>\n",
       "      <td>9,566,666.67</td>\n",
       "      <td>10,000,000.00</td>\n",
       "      <td>200,900,000.00</td>\n",
       "    </tr>\n",
       "    <tr>\n",
       "      <td>News, Search and Messaging</td>\n",
       "      <td>53</td>\n",
       "      <td>8,298,765.00</td>\n",
       "      <td>8,000,000.00</td>\n",
       "      <td>439,834,545.00</td>\n",
       "    </tr>\n",
       "    <tr>\n",
       "      <td>Others</td>\n",
       "      <td>113</td>\n",
       "      <td>9,202,739.00</td>\n",
       "      <td>9,000,000.00</td>\n",
       "      <td>1,039,909,507.00</td>\n",
       "    </tr>\n",
       "    <tr>\n",
       "      <td>Social, Finance, Analytics, Advertising</td>\n",
       "      <td>34</td>\n",
       "      <td>8,913,044.12</td>\n",
       "      <td>8,450,000.00</td>\n",
       "      <td>303,043,500.00</td>\n",
       "    </tr>\n",
       "  </tbody>\n",
       "</table>\n",
       "</div>"
      ],
      "text/plain": [
       "                                         count          mean        median  \\\n",
       "main_sector                                                                  \n",
       "Automotive & Sports                         13 10,530,769.23 11,000,000.00   \n",
       "Cleantech / Semiconductors                  21  8,284,761.90  8,000,000.00   \n",
       "Entertainment                               34  8,642,058.82  8,090,000.00   \n",
       "Health                                      20  8,687,000.00  9,000,000.00   \n",
       "Manufacturing                               21  9,566,666.67 10,000,000.00   \n",
       "News, Search and Messaging                  53  8,298,765.00  8,000,000.00   \n",
       "Others                                     113  9,202,739.00  9,000,000.00   \n",
       "Social, Finance, Analytics, Advertising     34  8,913,044.12  8,450,000.00   \n",
       "\n",
       "                                                     sum  \n",
       "main_sector                                               \n",
       "Automotive & Sports                       136,900,000.00  \n",
       "Cleantech / Semiconductors                173,980,000.00  \n",
       "Entertainment                             293,830,000.00  \n",
       "Health                                    173,740,000.00  \n",
       "Manufacturing                             200,900,000.00  \n",
       "News, Search and Messaging                439,834,545.00  \n",
       "Others                                  1,039,909,507.00  \n",
       "Social, Finance, Analytics, Advertising   303,043,500.00  "
      ]
     },
     "execution_count": 149,
     "metadata": {},
     "output_type": "execute_result"
    }
   ],
   "source": [
    "d3.pivot_table(values = 'raised_amount_usd',index = ['main_sector'], aggfunc = {'sum','count','mean','median'})"
   ]
  },
  {
   "cell_type": "code",
   "execution_count": 150,
   "metadata": {},
   "outputs": [
    {
     "data": {
      "text/plain": [
       "342"
      ]
     },
     "execution_count": 150,
     "metadata": {},
     "output_type": "execute_result"
    }
   ],
   "source": [
    "d3['raised_amount_usd'].count()"
   ]
  },
  {
   "cell_type": "code",
   "execution_count": 151,
   "metadata": {},
   "outputs": [
    {
     "data": {
      "text/plain": [
       "3065543602.0"
      ]
     },
     "execution_count": 151,
     "metadata": {},
     "output_type": "execute_result"
    }
   ],
   "source": [
    "d3['raised_amount_usd'].sum()"
   ]
  },
  {
   "cell_type": "code",
   "execution_count": 152,
   "metadata": {},
   "outputs": [
    {
     "data": {
      "text/plain": [
       "8610000.0"
      ]
     },
     "execution_count": 152,
     "metadata": {},
     "output_type": "execute_result"
    }
   ],
   "source": [
    "d3['raised_amount_usd'].median()"
   ]
  },
  {
   "cell_type": "code",
   "execution_count": 153,
   "metadata": {},
   "outputs": [
    {
     "data": {
      "text/plain": [
       "8963577.783625731"
      ]
     },
     "execution_count": 153,
     "metadata": {},
     "output_type": "execute_result"
    }
   ],
   "source": [
    "d3['raised_amount_usd'].mean()"
   ]
  },
  {
   "cell_type": "code",
   "execution_count": 154,
   "metadata": {},
   "outputs": [
    {
     "data": {
      "text/plain": [
       "main_sector\n",
       "Others                                     113\n",
       "News, Search and Messaging                  53\n",
       "Social, Finance, Analytics, Advertising     34\n",
       "Entertainment                               34\n",
       "Manufacturing                               21\n",
       "Cleantech / Semiconductors                  21\n",
       "Health                                      20\n",
       "Automotive & Sports                         13\n",
       "Name: raised_amount_usd, dtype: int64"
      ]
     },
     "execution_count": 154,
     "metadata": {},
     "output_type": "execute_result"
    }
   ],
   "source": [
    "d3.groupby('main_sector')['raised_amount_usd'].count().sort_values(ascending=False)"
   ]
  },
  {
   "cell_type": "code",
   "execution_count": 210,
   "metadata": {},
   "outputs": [
    {
     "data": {
      "text/plain": [
       "permalink\n",
       "/organization/firstcry-com       39,000,000.00\n",
       "/organization/myntra             38,000,000.00\n",
       "/organization/commonfloor        32,900,000.00\n",
       "/organization/pepperfry-com      28,000,000.00\n",
       "/organization/itzcash-card-ltd   25,000,000.00\n",
       "Name: raised_amount_usd, dtype: float64"
      ]
     },
     "execution_count": 210,
     "metadata": {},
     "output_type": "execute_result"
    }
   ],
   "source": [
    "d3[d3['main_sector'] == \"Others\" ].groupby('permalink')['raised_amount_usd'].sum().sort_values(ascending=False).head(5)"
   ]
  },
  {
   "cell_type": "code",
   "execution_count": 219,
   "metadata": {},
   "outputs": [
    {
     "data": {
      "text/html": [
       "<div>\n",
       "<style scoped>\n",
       "    .dataframe tbody tr th:only-of-type {\n",
       "        vertical-align: middle;\n",
       "    }\n",
       "\n",
       "    .dataframe tbody tr th {\n",
       "        vertical-align: top;\n",
       "    }\n",
       "\n",
       "    .dataframe thead th {\n",
       "        text-align: right;\n",
       "    }\n",
       "</style>\n",
       "<table border=\"1\" class=\"dataframe\">\n",
       "  <thead>\n",
       "    <tr style=\"text-align: right;\">\n",
       "      <th></th>\n",
       "      <th>company_permalink</th>\n",
       "      <th>funding_round_permalink</th>\n",
       "      <th>funding_round_type</th>\n",
       "      <th>raised_amount_usd</th>\n",
       "      <th>permalink</th>\n",
       "      <th>name</th>\n",
       "      <th>category_list</th>\n",
       "      <th>status</th>\n",
       "      <th>country_code</th>\n",
       "      <th>state_code</th>\n",
       "      <th>region</th>\n",
       "      <th>city</th>\n",
       "      <th>primary_sector</th>\n",
       "      <th>main_sector</th>\n",
       "      <th>_merge</th>\n",
       "    </tr>\n",
       "  </thead>\n",
       "  <tbody>\n",
       "    <tr>\n",
       "      <td>20312</td>\n",
       "      <td>/organization/firstcry-com</td>\n",
       "      <td>/funding-round/23b1769412d24510dfc7a56ab1f12e4d</td>\n",
       "      <td>venture</td>\n",
       "      <td>15,000,000.00</td>\n",
       "      <td>/organization/firstcry-com</td>\n",
       "      <td>FirstCry.com</td>\n",
       "      <td>E-Commerce</td>\n",
       "      <td>operating</td>\n",
       "      <td>IND</td>\n",
       "      <td>16</td>\n",
       "      <td>Pune</td>\n",
       "      <td>Pune</td>\n",
       "      <td>e-commerce</td>\n",
       "      <td>Others</td>\n",
       "      <td>both</td>\n",
       "    </tr>\n",
       "    <tr>\n",
       "      <td>20313</td>\n",
       "      <td>/organization/firstcry-com</td>\n",
       "      <td>/funding-round/727bda07de7b5eaf31e484cb803b3c38</td>\n",
       "      <td>venture</td>\n",
       "      <td>10,000,000.00</td>\n",
       "      <td>/organization/firstcry-com</td>\n",
       "      <td>FirstCry.com</td>\n",
       "      <td>E-Commerce</td>\n",
       "      <td>operating</td>\n",
       "      <td>IND</td>\n",
       "      <td>16</td>\n",
       "      <td>Pune</td>\n",
       "      <td>Pune</td>\n",
       "      <td>e-commerce</td>\n",
       "      <td>Others</td>\n",
       "      <td>both</td>\n",
       "    </tr>\n",
       "    <tr>\n",
       "      <td>20314</td>\n",
       "      <td>/organization/firstcry-com</td>\n",
       "      <td>/funding-round/c2bd1e484cde75ff8b15f2ca4682e5cb</td>\n",
       "      <td>venture</td>\n",
       "      <td>14,000,000.00</td>\n",
       "      <td>/organization/firstcry-com</td>\n",
       "      <td>FirstCry.com</td>\n",
       "      <td>E-Commerce</td>\n",
       "      <td>operating</td>\n",
       "      <td>IND</td>\n",
       "      <td>16</td>\n",
       "      <td>Pune</td>\n",
       "      <td>Pune</td>\n",
       "      <td>e-commerce</td>\n",
       "      <td>Others</td>\n",
       "      <td>both</td>\n",
       "    </tr>\n",
       "  </tbody>\n",
       "</table>\n",
       "</div>"
      ],
      "text/plain": [
       "                company_permalink  \\\n",
       "20312  /organization/firstcry-com   \n",
       "20313  /organization/firstcry-com   \n",
       "20314  /organization/firstcry-com   \n",
       "\n",
       "                               funding_round_permalink funding_round_type  \\\n",
       "20312  /funding-round/23b1769412d24510dfc7a56ab1f12e4d            venture   \n",
       "20313  /funding-round/727bda07de7b5eaf31e484cb803b3c38            venture   \n",
       "20314  /funding-round/c2bd1e484cde75ff8b15f2ca4682e5cb            venture   \n",
       "\n",
       "       raised_amount_usd                   permalink          name  \\\n",
       "20312      15,000,000.00  /organization/firstcry-com  FirstCry.com   \n",
       "20313      10,000,000.00  /organization/firstcry-com  FirstCry.com   \n",
       "20314      14,000,000.00  /organization/firstcry-com  FirstCry.com   \n",
       "\n",
       "      category_list     status country_code state_code region  city  \\\n",
       "20312    E-Commerce  operating          IND         16   Pune  Pune   \n",
       "20313    E-Commerce  operating          IND         16   Pune  Pune   \n",
       "20314    E-Commerce  operating          IND         16   Pune  Pune   \n",
       "\n",
       "      primary_sector main_sector _merge  \n",
       "20312     e-commerce      Others   both  \n",
       "20313     e-commerce      Others   both  \n",
       "20314     e-commerce      Others   both  "
      ]
     },
     "execution_count": 219,
     "metadata": {},
     "output_type": "execute_result"
    }
   ],
   "source": [
    "d3.loc[d3['permalink']=='/organization/firstcry-com']"
   ]
  },
  {
   "cell_type": "markdown",
   "metadata": {},
   "source": [
    "## Plots"
   ]
  },
  {
   "cell_type": "markdown",
   "metadata": {},
   "source": [
    "### Funding Type"
   ]
  },
  {
   "cell_type": "code",
   "execution_count": 155,
   "metadata": {},
   "outputs": [
    {
     "data": {
      "image/png": "[encoded data removed]",
      "text/plain": [
       "<Figure size 720x360 with 2 Axes>"
      ]
     },
     "metadata": {
      "needs_background": "light"
     },
     "output_type": "display_data"
    }
   ],
   "source": [
    "plt.figure(figsize=(10, 5))\n",
    "plt.subplot(1,2,1)\n",
    "sns.countplot(x=\"funding_round_type\", data=master_frame)\n",
    "plt.title(\"Count of Investments\")\n",
    "plt.subplot(1, 2, 2)\n",
    "sns.barplot(y='raised_amount_usd', x=\"funding_round_type\", data=master_frame, estimator=np.mean)\n",
    "plt.title(\"Mean invested amount\")\n",
    "plt.show()\n",
    "##1 unit is 10M usd "
   ]
  },
  {
   "cell_type": "code",
   "execution_count": 165,
   "metadata": {},
   "outputs": [
    {
     "data": {
      "image/png": "[encoded data removed]",
      "text/plain": [
       "<Figure size 720x576 with 1 Axes>"
      ]
     },
     "metadata": {
      "needs_background": "light"
     },
     "output_type": "display_data"
    }
   ],
   "source": [
    "plt.figure(figsize=(10, 8))\n",
    "sns.barplot(x='funding_round_type', y='raised_amount_usd', data=master_frame)\n",
    "plt.axhline(y=5000000, linewidth=2, color = 'r')\n",
    "plt.axhline(y=15000000, linewidth=2, color = 'r')\n",
    "plt.show()\n",
    "#1 unit is 10M usd "
   ]
  },
  {
   "cell_type": "markdown",
   "metadata": {},
   "source": [
    "Clearly the above 2 plots show us that venture is the best investment type for our needs."
   ]
  },
  {
   "cell_type": "code",
   "execution_count": 211,
   "metadata": {},
   "outputs": [
    {
     "data": {
      "image/png": "[encoded data removed]",
      "text/plain": [
       "<Figure size 720x360 with 1 Axes>"
      ]
     },
     "metadata": {
      "needs_background": "light"
     },
     "output_type": "display_data"
    }
   ],
   "source": [
    "plt.figure(figsize=(10,5))\n",
    "c=sns.barplot(x='country_code', y='raised_amount_usd', data=master_frame9, estimator=np.sum,color='orange')\n",
    "c.set_yscale('log')\n",
    "c.set(xlabel='Country', ylabel='Raised Amount(log scaled)')\n",
    "c.set_title('Country-wise Analysis',fontsize =18)\n",
    "plt.show()"
   ]
  },
  {
   "cell_type": "code",
   "execution_count": 182,
   "metadata": {},
   "outputs": [
    {
     "data": {
      "image/png": "[encoded data removed]",
      "text/plain": [
       "<Figure size 720x360 with 1 Axes>"
      ]
     },
     "metadata": {
      "needs_background": "light"
     },
     "output_type": "display_data"
    }
   ],
   "source": [
    "plt.figure(figsize=(10,5))\n",
    "c=sns.barplot(x='country_code', y='raised_amount_usd', data=master_frame3, estimator=np.sum)\n",
    "c.set_yscale('log')\n",
    "c.set(xlabel='Country', ylabel='Raised Amount(log scaled)')\n",
    "c.set_title('Country-wise Analysis For Top 3 English Speaking countries ',fontsize =18)\n",
    "plt.show()"
   ]
  },
  {
   "cell_type": "markdown",
   "metadata": {},
   "source": [
    "### For the Sector analysis in top 3 countries we include only top 3 sectors for the top 3 English Speaking Countries"
   ]
  },
  {
   "cell_type": "code",
   "execution_count": 189,
   "metadata": {},
   "outputs": [],
   "source": [
    "d11 = d1[d1['main_sector'].isin([\"Others\",\"Social, Finance, Analytics, Advertising\", \"Cleantech / Semiconductors\"])]\n",
    "d22 = d2[d2['main_sector'].isin([\"Others\",\"Social, Finance, Analytics, Advertising\",\"Cleantech / Semiconductors\"])]\n",
    "d33 = d3[d3['main_sector'].isin([\"Others\",\"Social, Finance, Analytics, Advertising\",\"News, Search and Messaging\"])]"
   ]
  },
  {
   "cell_type": "code",
   "execution_count": 218,
   "metadata": {},
   "outputs": [
    {
     "data": {
      "image/png": "[encoded data removed]",
      "text/plain": [
       "<Figure size 864x432 with 1 Axes>"
      ]
     },
     "metadata": {
      "needs_background": "light"
     },
     "output_type": "display_data"
    }
   ],
   "source": [
    "result = pd.concat([d11,d22,d33])\n",
    "plt.figure(figsize=(12, 6))\n",
    "p=sns.barplot(x='country_code', y='raised_amount_usd', hue=\"main_sector\", data=result, estimator=lambda x: len(x))\n",
    "p.set(xlabel='Country', ylabel='Number of Investments')\n",
    "p.set_title('Number of Investments in top 3 sectors of top 3 countries',fontsize=15)\n",
    "\n",
    "plt.show()\n",
    "#1 unit is 10M usd "
   ]
  },
  {
   "cell_type": "code",
   "execution_count": null,
   "metadata": {},
   "outputs": [],
   "source": []
  }
 ],
 "metadata": {
  "kernelspec": {
   "display_name": "Python 3",
   "language": "python",
   "name": "python3"
  },
  "language_info": {
   "codemirror_mode": {
    "name": "ipython",
    "version": 3
   },
   "file_extension": ".py",
   "mimetype": "text/x-python",
   "name": "python",
   "nbconvert_exporter": "python",
   "pygments_lexer": "ipython3",
   "version": "3.6.8"
  }
 },
 "nbformat": 4,
 "nbformat_minor": 2
}
